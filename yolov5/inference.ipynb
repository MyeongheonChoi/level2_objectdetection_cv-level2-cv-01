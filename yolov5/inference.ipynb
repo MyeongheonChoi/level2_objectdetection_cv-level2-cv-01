{
 "cells": [
  {
   "cell_type": "code",
   "execution_count": 3,
   "metadata": {},
   "outputs": [],
   "source": [
    "import os\n",
    "import torch\n",
    "from tqdm import tqdm\n",
    "import pandas as pd"
   ]
  },
  {
   "cell_type": "code",
   "execution_count": 4,
   "metadata": {},
   "outputs": [],
   "source": [
    "DATA_ROOT = '../../dataset'\n",
    "TEST_DATASET_PATH = os.path.join(DATA_ROOT, 'test')\n",
    "\n",
    "INFERENCE_SIZE = 1280\n",
    "AUGMENT = True\n",
    "\n",
    "IMAGES = []\n",
    "for image_name in os.listdir(TEST_DATASET_PATH):\n",
    "    if not image_name.startswith('._'):\n",
    "        IMAGES.append(os.path.join(TEST_DATASET_PATH, image_name))\n",
    "\n",
    "IMAGES.sort()"
   ]
  },
  {
   "cell_type": "code",
   "execution_count": 5,
   "metadata": {},
   "outputs": [],
   "source": [
    "project = 'bc_lv2-object_detection'\n",
    "name = 'yolov5l6_pretrained_highaug_imgsize1280_pseudolabeling_HONEY'"
   ]
  },
  {
   "cell_type": "code",
   "execution_count": 6,
   "metadata": {},
   "outputs": [
    {
     "name": "stderr",
     "output_type": "stream",
     "text": [
      "YOLOv5 🚀 2022-11-24 Python-3.7.15 torch-1.7.1 CUDA:0 (Tesla V100-PCIE-32GB, 32510MiB)\n",
      "\n",
      "Fusing layers... \n",
      "YOLOv5l6-custom summary: 346 layers, 76187892 parameters, 0 gradients, 110.0 GFLOPs\n",
      "Adding AutoShape... \n"
     ]
    }
   ],
   "source": [
    "model = torch.hub.load('./', 'custom', path = f'{project}/{name}/weights/best.pt', source = 'local')\n",
    "model.conf = 0.001  # NMS confidence threshold\n",
    "model.iou = 0.6  # NMS IoU threshold\n",
    "# model.agnostic = False  # NMS class-agnostic\n",
    "# model.multi_label = False  # NMS multiple labels per box\n",
    "# model.classes = None  # (optional list) filter by class, i.e. = [0, 15, 16] for COCO persons, cats and dogs\n",
    "# model.max_det = 1000  # maximum number of detections per image\n",
    "# model.amp = False  # Automatic Mixed Precision (AMP) inference"
   ]
  },
  {
   "cell_type": "code",
   "execution_count": 7,
   "metadata": {},
   "outputs": [
    {
     "name": "stderr",
     "output_type": "stream",
     "text": [
      "100%|██████████| 4871/4871 [12:00<00:00,  6.76it/s]\n"
     ]
    },
    {
     "data": {
      "text/html": [
       "<div>\n",
       "<style scoped>\n",
       "    .dataframe tbody tr th:only-of-type {\n",
       "        vertical-align: middle;\n",
       "    }\n",
       "\n",
       "    .dataframe tbody tr th {\n",
       "        vertical-align: top;\n",
       "    }\n",
       "\n",
       "    .dataframe thead th {\n",
       "        text-align: right;\n",
       "    }\n",
       "</style>\n",
       "<table border=\"1\" class=\"dataframe\">\n",
       "  <thead>\n",
       "    <tr style=\"text-align: right;\">\n",
       "      <th></th>\n",
       "      <th>PredictionString</th>\n",
       "      <th>image_id</th>\n",
       "    </tr>\n",
       "  </thead>\n",
       "  <tbody>\n",
       "    <tr>\n",
       "      <th>0</th>\n",
       "      <td>7 0.9912117123603821 601.3900756835938 516.462...</td>\n",
       "      <td>test/0000.jpg</td>\n",
       "    </tr>\n",
       "    <tr>\n",
       "      <th>1</th>\n",
       "      <td>5 0.9795872569084167 346.3387145996094 252.094...</td>\n",
       "      <td>test/0001.jpg</td>\n",
       "    </tr>\n",
       "    <tr>\n",
       "      <th>2</th>\n",
       "      <td>1 0.9759643077850342 775.8338623046875 405.938...</td>\n",
       "      <td>test/0002.jpg</td>\n",
       "    </tr>\n",
       "    <tr>\n",
       "      <th>3</th>\n",
       "      <td>9 0.9734921455383301 145.88980102539062 259.78...</td>\n",
       "      <td>test/0003.jpg</td>\n",
       "    </tr>\n",
       "    <tr>\n",
       "      <th>4</th>\n",
       "      <td>0 0.9683662056922913 192.58596801757812 248.83...</td>\n",
       "      <td>test/0004.jpg</td>\n",
       "    </tr>\n",
       "  </tbody>\n",
       "</table>\n",
       "</div>"
      ],
      "text/plain": [
       "                                    PredictionString       image_id\n",
       "0  7 0.9912117123603821 601.3900756835938 516.462...  test/0000.jpg\n",
       "1  5 0.9795872569084167 346.3387145996094 252.094...  test/0001.jpg\n",
       "2  1 0.9759643077850342 775.8338623046875 405.938...  test/0002.jpg\n",
       "3  9 0.9734921455383301 145.88980102539062 259.78...  test/0003.jpg\n",
       "4  0 0.9683662056922913 192.58596801757812 248.83...  test/0004.jpg"
      ]
     },
     "execution_count": 7,
     "metadata": {},
     "output_type": "execute_result"
    }
   ],
   "source": [
    "prediction_strings = []\n",
    "file_names = []\n",
    "\n",
    "for i in tqdm(range(len(IMAGES))):\n",
    "    prediction_string = ''\n",
    "    \n",
    "    output = model(IMAGES[i], size=INFERENCE_SIZE, augment=AUGMENT)\n",
    "    for bbox in output.pandas().xyxy[0].values:\n",
    "        xmin, ymin, xmax, ymax, conf, cls, _ = bbox\n",
    "        prediction_string += f'{cls} {conf} {xmin} {ymin} {xmax} {ymax} '\n",
    "    \n",
    "    path_split = IMAGES[i].split('/')\n",
    "    image_path = f'{path_split[-2]}/{path_split[-1]}'\n",
    "\n",
    "    prediction_strings.append(prediction_string)\n",
    "    file_names.append(image_path)\n",
    "\n",
    "submission = pd.DataFrame()\n",
    "submission['PredictionString'] = prediction_strings\n",
    "submission['image_id'] = file_names\n",
    "submission.head()"
   ]
  },
  {
   "cell_type": "code",
   "execution_count": 8,
   "metadata": {},
   "outputs": [
    {
     "data": {
      "text/html": [
       "<div>\n",
       "<style scoped>\n",
       "    .dataframe tbody tr th:only-of-type {\n",
       "        vertical-align: middle;\n",
       "    }\n",
       "\n",
       "    .dataframe tbody tr th {\n",
       "        vertical-align: top;\n",
       "    }\n",
       "\n",
       "    .dataframe thead th {\n",
       "        text-align: right;\n",
       "    }\n",
       "</style>\n",
       "<table border=\"1\" class=\"dataframe\">\n",
       "  <thead>\n",
       "    <tr style=\"text-align: right;\">\n",
       "      <th></th>\n",
       "      <th>PredictionString</th>\n",
       "      <th>image_id</th>\n",
       "    </tr>\n",
       "  </thead>\n",
       "  <tbody>\n",
       "    <tr>\n",
       "      <th>0</th>\n",
       "      <td>7 0.9912117123603821 601.3900756835938 516.462...</td>\n",
       "      <td>test/0000.jpg</td>\n",
       "    </tr>\n",
       "    <tr>\n",
       "      <th>1</th>\n",
       "      <td>5 0.9795872569084167 346.3387145996094 252.094...</td>\n",
       "      <td>test/0001.jpg</td>\n",
       "    </tr>\n",
       "    <tr>\n",
       "      <th>2</th>\n",
       "      <td>1 0.9759643077850342 775.8338623046875 405.938...</td>\n",
       "      <td>test/0002.jpg</td>\n",
       "    </tr>\n",
       "    <tr>\n",
       "      <th>3</th>\n",
       "      <td>9 0.9734921455383301 145.88980102539062 259.78...</td>\n",
       "      <td>test/0003.jpg</td>\n",
       "    </tr>\n",
       "    <tr>\n",
       "      <th>4</th>\n",
       "      <td>0 0.9683662056922913 192.58596801757812 248.83...</td>\n",
       "      <td>test/0004.jpg</td>\n",
       "    </tr>\n",
       "    <tr>\n",
       "      <th>...</th>\n",
       "      <td>...</td>\n",
       "      <td>...</td>\n",
       "    </tr>\n",
       "    <tr>\n",
       "      <th>4866</th>\n",
       "      <td>1 0.9835401177406311 292.7864685058594 345.664...</td>\n",
       "      <td>test/4866.jpg</td>\n",
       "    </tr>\n",
       "    <tr>\n",
       "      <th>4867</th>\n",
       "      <td>4 0.8317476511001587 416.8661193847656 312.013...</td>\n",
       "      <td>test/4867.jpg</td>\n",
       "    </tr>\n",
       "    <tr>\n",
       "      <th>4868</th>\n",
       "      <td>7 0.9793619513511658 117.04243469238281 445.82...</td>\n",
       "      <td>test/4868.jpg</td>\n",
       "    </tr>\n",
       "    <tr>\n",
       "      <th>4869</th>\n",
       "      <td>1 0.971454381942749 838.19873046875 0.65328371...</td>\n",
       "      <td>test/4869.jpg</td>\n",
       "    </tr>\n",
       "    <tr>\n",
       "      <th>4870</th>\n",
       "      <td>4 0.9878187775611877 373.1445007324219 202.946...</td>\n",
       "      <td>test/4870.jpg</td>\n",
       "    </tr>\n",
       "  </tbody>\n",
       "</table>\n",
       "<p>4871 rows × 2 columns</p>\n",
       "</div>"
      ],
      "text/plain": [
       "                                       PredictionString       image_id\n",
       "0     7 0.9912117123603821 601.3900756835938 516.462...  test/0000.jpg\n",
       "1     5 0.9795872569084167 346.3387145996094 252.094...  test/0001.jpg\n",
       "2     1 0.9759643077850342 775.8338623046875 405.938...  test/0002.jpg\n",
       "3     9 0.9734921455383301 145.88980102539062 259.78...  test/0003.jpg\n",
       "4     0 0.9683662056922913 192.58596801757812 248.83...  test/0004.jpg\n",
       "...                                                 ...            ...\n",
       "4866  1 0.9835401177406311 292.7864685058594 345.664...  test/4866.jpg\n",
       "4867  4 0.8317476511001587 416.8661193847656 312.013...  test/4867.jpg\n",
       "4868  7 0.9793619513511658 117.04243469238281 445.82...  test/4868.jpg\n",
       "4869  1 0.971454381942749 838.19873046875 0.65328371...  test/4869.jpg\n",
       "4870  4 0.9878187775611877 373.1445007324219 202.946...  test/4870.jpg\n",
       "\n",
       "[4871 rows x 2 columns]"
      ]
     },
     "execution_count": 8,
     "metadata": {},
     "output_type": "execute_result"
    }
   ],
   "source": [
    "submission"
   ]
  },
  {
   "cell_type": "code",
   "execution_count": 9,
   "metadata": {},
   "outputs": [],
   "source": [
    "submission.to_csv(f'results/result_{name}.csv', index = None)"
   ]
  }
 ],
 "metadata": {
  "kernelspec": {
   "display_name": "Python 3.7.15 ('detection')",
   "language": "python",
   "name": "python3"
  },
  "language_info": {
   "codemirror_mode": {
    "name": "ipython",
    "version": 3
   },
   "file_extension": ".py",
   "mimetype": "text/x-python",
   "name": "python",
   "nbconvert_exporter": "python",
   "pygments_lexer": "ipython3",
   "version": "3.7.15"
  },
  "orig_nbformat": 4,
  "vscode": {
   "interpreter": {
    "hash": "b94c6de4bce9a87a354a5fa9998691adc0532adddb9d4140f5ba941d00b01fae"
   }
  }
 },
 "nbformat": 4,
 "nbformat_minor": 2
}
