{
  "cells": [
    {
      "cell_type": "code",
      "execution_count": 1,
      "metadata": {
        "id": "XivhYLyAsOwX"
      },
      "outputs": [
        {
          "name": "stdout",
          "output_type": "stream",
          "text": [
            "Collecting ensemble_boxes\n",
            "  Downloading ensemble_boxes-1.0.9-py3-none-any.whl (23 kB)\n",
            "Requirement already satisfied: numpy in /opt/conda/envs/detection/lib/python3.7/site-packages (from ensemble_boxes) (1.21.6)\n",
            "Collecting numba\n",
            "  Downloading numba-0.56.4-cp37-cp37m-manylinux2014_x86_64.manylinux_2_17_x86_64.whl (3.5 MB)\n",
            "\u001b[2K     \u001b[90m━━━━━━━━━━━━━━━━━━━━━━━━━━━━━━━━━━━━━━━━\u001b[0m \u001b[32m3.5/3.5 MB\u001b[0m \u001b[31m53.6 MB/s\u001b[0m eta \u001b[36m0:00:00\u001b[0m:00:01\u001b[0m\n",
            "\u001b[?25hRequirement already satisfied: pandas in /opt/conda/envs/detection/lib/python3.7/site-packages (from ensemble_boxes) (1.3.5)\n",
            "Requirement already satisfied: setuptools in /opt/conda/envs/detection/lib/python3.7/site-packages (from numba->ensemble_boxes) (65.5.0)\n",
            "Requirement already satisfied: importlib-metadata in /opt/conda/envs/detection/lib/python3.7/site-packages (from numba->ensemble_boxes) (5.0.0)\n",
            "Collecting llvmlite<0.40,>=0.39.0dev0\n",
            "  Downloading llvmlite-0.39.1-cp37-cp37m-manylinux_2_17_x86_64.manylinux2014_x86_64.whl (34.6 MB)\n",
            "\u001b[2K     \u001b[90m━━━━━━━━━━━━━━━━━━━━━━━━━━━━━━━━━━━━━━━━\u001b[0m \u001b[32m34.6/34.6 MB\u001b[0m \u001b[31m33.9 MB/s\u001b[0m eta \u001b[36m0:00:00\u001b[0m00:01\u001b[0m00:01\u001b[0m\n",
            "\u001b[?25hRequirement already satisfied: python-dateutil>=2.7.3 in /opt/conda/envs/detection/lib/python3.7/site-packages (from pandas->ensemble_boxes) (2.8.2)\n",
            "Requirement already satisfied: pytz>=2017.3 in /opt/conda/envs/detection/lib/python3.7/site-packages (from pandas->ensemble_boxes) (2018.4)\n",
            "Requirement already satisfied: six>=1.5 in /opt/conda/envs/detection/lib/python3.7/site-packages (from python-dateutil>=2.7.3->pandas->ensemble_boxes) (1.16.0)\n",
            "Requirement already satisfied: typing-extensions>=3.6.4 in /opt/conda/envs/detection/lib/python3.7/site-packages (from importlib-metadata->numba->ensemble_boxes) (4.3.0)\n",
            "Requirement already satisfied: zipp>=0.5 in /opt/conda/envs/detection/lib/python3.7/site-packages (from importlib-metadata->numba->ensemble_boxes) (3.10.0)\n",
            "Installing collected packages: llvmlite, numba, ensemble_boxes\n",
            "Successfully installed ensemble_boxes-1.0.9 llvmlite-0.39.1 numba-0.56.4\n",
            "\u001b[33mWARNING: Running pip as the 'root' user can result in broken permissions and conflicting behaviour with the system package manager. It is recommended to use a virtual environment instead: https://pip.pypa.io/warnings/venv\u001b[0m\u001b[33m\n",
            "\u001b[0m"
          ]
        }
      ],
      "source": [
        "# !pip install ensemble_boxes"
      ]
    },
    {
      "cell_type": "code",
      "execution_count": 7,
      "metadata": {
        "id": "gAuaXtYusOwa"
      },
      "outputs": [],
      "source": [
        "import pandas as pd\n",
        "from ensemble_boxes import *\n",
        "import numpy as np\n",
        "from pycocotools.coco import COCO"
      ]
    },
    {
      "cell_type": "code",
      "execution_count": 14,
      "metadata": {
        "id": "uT4AiCvAsOwb"
      },
      "outputs": [],
      "source": [
        "# ensemble csv files\n",
        "# submission_files = ['result_yolov5l6_pretrained_highaug_imgsize1280_epoch120_fold0_HONEY.csv',\n",
        "#                    'result_yolov5l6_pretrained_highaug_imgsize1280_epoch120_fold1_HONEY.csv',\n",
        "#                    'result_yolov5l6_pretrained_highaug_imgsize1280_epoch120_fold2_HONEY.csv',\n",
        "#                    'result_yolov5l6_pretrained_highaug_imgsize1280_epoch120_fold3_HONEY.csv',\n",
        "#                    'result_yolov5l6_pretrained_highaug_imgsize1280_epoch120_fold4_HONEY.csv',\n",
        "#                    'result_yolov5l6_pretrained_highaug_imgsize1280_pseudolabeling_HONEY.csv']\n",
        "submission_files = ['results/result_yolov5l6_pretrained_highaug_imgsize1280_epoch120_fold0_HONEY.csv',\n",
        "                    'results/result_yolov5l6_pretrained_highaug_imgsize1280_epoch120_fold1_HONEY.csv',\n",
        "                    'results/result_yolov5l6_pretrained_highaug_imgsize1280_epoch120_fold2_HONEY.csv',\n",
        "                    'results/result_yolov5l6_pretrained_highaug_imgsize1280_epoch120_fold3_HONEY.csv',\n",
        "                    'results/result_yolov5l6_pretrained_highaug_imgsize1280_epoch120_fold4_HONEY.csv',\n",
        "                    'results/result_yolov5l6_pretrained_highaug_imgsize1280_pseudolabeling_HONEY.csv']\n",
        "submission_df = [pd.read_csv(file) for file in submission_files]"
      ]
    },
    {
      "cell_type": "code",
      "execution_count": 15,
      "metadata": {
        "id": "Hao5LvRCsOwb"
      },
      "outputs": [],
      "source": [
        "image_ids = submission_df[0]['image_id'].tolist()"
      ]
    },
    {
      "cell_type": "code",
      "execution_count": 16,
      "metadata": {
        "id": "9YTKmQDCsOwb"
      },
      "outputs": [
        {
          "name": "stdout",
          "output_type": "stream",
          "text": [
            "loading annotations into memory...\n",
            "Done (t=0.01s)\n",
            "creating index...\n",
            "index created!\n"
          ]
        }
      ],
      "source": [
        "# ensemble 할 file의 image 정보를 불러오기 위한 json\n",
        "annotation = '../../dataset/test.json'\n",
        "coco = COCO(annotation)"
      ]
    },
    {
      "cell_type": "code",
      "execution_count": 17,
      "metadata": {
        "id": "QcVFl9IBsOwc"
      },
      "outputs": [
        {
          "name": "stderr",
          "output_type": "stream",
          "text": [
            "/opt/conda/envs/detection/lib/python3.7/site-packages/ensemble_boxes/ensemble_boxes_wbf.py:66: UserWarning: Zero area box skipped: [1.0, 0.01767137087881565, 1.0, 0.400870144367218].\n",
            "  warnings.warn(\"Zero area box skipped: {}.\".format(box_part))\n",
            "/opt/conda/envs/detection/lib/python3.7/site-packages/ensemble_boxes/ensemble_boxes_wbf.py:66: UserWarning: Zero area box skipped: [1.0, 0.022164201363921165, 1.0, 0.23099005222320557].\n",
            "  warnings.warn(\"Zero area box skipped: {}.\".format(box_part))\n",
            "/opt/conda/envs/detection/lib/python3.7/site-packages/ensemble_boxes/ensemble_boxes_wbf.py:66: UserWarning: Zero area box skipped: [1.0, 0.008991777896881104, 1.0, 0.40654808282852173].\n",
            "  warnings.warn(\"Zero area box skipped: {}.\".format(box_part))\n",
            "/opt/conda/envs/detection/lib/python3.7/site-packages/ensemble_boxes/ensemble_boxes_wbf.py:66: UserWarning: Zero area box skipped: [1.0, 0.02719254605472088, 1.0, 0.23635008931159973].\n",
            "  warnings.warn(\"Zero area box skipped: {}.\".format(box_part))\n",
            "/opt/conda/envs/detection/lib/python3.7/site-packages/ensemble_boxes/ensemble_boxes_wbf.py:66: UserWarning: Zero area box skipped: [1.0, 0.0, 1.0, 0.4698410928249359].\n",
            "  warnings.warn(\"Zero area box skipped: {}.\".format(box_part))\n",
            "/opt/conda/envs/detection/lib/python3.7/site-packages/ensemble_boxes/ensemble_boxes_wbf.py:66: UserWarning: Zero area box skipped: [1.0, 0.026733649894595146, 1.0, 0.23699264228343964].\n",
            "  warnings.warn(\"Zero area box skipped: {}.\".format(box_part))\n",
            "/opt/conda/envs/detection/lib/python3.7/site-packages/ensemble_boxes/ensemble_boxes_wbf.py:66: UserWarning: Zero area box skipped: [1.0, 0.009458827786147594, 1.0, 0.4178467392921448].\n",
            "  warnings.warn(\"Zero area box skipped: {}.\".format(box_part))\n",
            "/opt/conda/envs/detection/lib/python3.7/site-packages/ensemble_boxes/ensemble_boxes_wbf.py:66: UserWarning: Zero area box skipped: [1.0, 0.01503082551062107, 1.0, 0.23458123207092285].\n",
            "  warnings.warn(\"Zero area box skipped: {}.\".format(box_part))\n",
            "/opt/conda/envs/detection/lib/python3.7/site-packages/ensemble_boxes/ensemble_boxes_wbf.py:66: UserWarning: Zero area box skipped: [1.0, 0.007403039839118719, 1.0, 0.47855544090270996].\n",
            "  warnings.warn(\"Zero area box skipped: {}.\".format(box_part))\n",
            "/opt/conda/envs/detection/lib/python3.7/site-packages/ensemble_boxes/ensemble_boxes_wbf.py:66: UserWarning: Zero area box skipped: [1.0, 0.032295938581228256, 1.0, 0.22208820283412933].\n",
            "  warnings.warn(\"Zero area box skipped: {}.\".format(box_part))\n",
            "/opt/conda/envs/detection/lib/python3.7/site-packages/ensemble_boxes/ensemble_boxes_wbf.py:66: UserWarning: Zero area box skipped: [1.0, 0.1415364146232605, 1.0, 0.34920069575309753].\n",
            "  warnings.warn(\"Zero area box skipped: {}.\".format(box_part))\n",
            "/opt/conda/envs/detection/lib/python3.7/site-packages/ensemble_boxes/ensemble_boxes_wbf.py:66: UserWarning: Zero area box skipped: [1.0, 0.18165044486522675, 1.0, 0.31746092438697815].\n",
            "  warnings.warn(\"Zero area box skipped: {}.\".format(box_part))\n",
            "/opt/conda/envs/detection/lib/python3.7/site-packages/ensemble_boxes/ensemble_boxes_wbf.py:66: UserWarning: Zero area box skipped: [1.0, 0.05083036422729492, 1.0, 0.2087293416261673].\n",
            "  warnings.warn(\"Zero area box skipped: {}.\".format(box_part))\n",
            "/opt/conda/envs/detection/lib/python3.7/site-packages/ensemble_boxes/ensemble_boxes_wbf.py:66: UserWarning: Zero area box skipped: [1.0, 0.02626965008676052, 1.0, 0.24659278988838196].\n",
            "  warnings.warn(\"Zero area box skipped: {}.\".format(box_part))\n",
            "/opt/conda/envs/detection/lib/python3.7/site-packages/ensemble_boxes/ensemble_boxes_wbf.py:66: UserWarning: Zero area box skipped: [1.0, 0.00936425942927599, 1.0, 0.404510498046875].\n",
            "  warnings.warn(\"Zero area box skipped: {}.\".format(box_part))\n",
            "/opt/conda/envs/detection/lib/python3.7/site-packages/ensemble_boxes/ensemble_boxes_wbf.py:66: UserWarning: Zero area box skipped: [1.0, 0.02317584864795208, 1.0, 0.23680762946605682].\n",
            "  warnings.warn(\"Zero area box skipped: {}.\".format(box_part))\n",
            "/opt/conda/envs/detection/lib/python3.7/site-packages/ensemble_boxes/ensemble_boxes_wbf.py:66: UserWarning: Zero area box skipped: [1.0, 0.0, 1.0, 0.270547479391098].\n",
            "  warnings.warn(\"Zero area box skipped: {}.\".format(box_part))\n",
            "/opt/conda/envs/detection/lib/python3.7/site-packages/ensemble_boxes/ensemble_boxes_wbf.py:66: UserWarning: Zero area box skipped: [1.0, 0.15316368639469147, 1.0, 0.263706773519516].\n",
            "  warnings.warn(\"Zero area box skipped: {}.\".format(box_part))\n",
            "/opt/conda/envs/detection/lib/python3.7/site-packages/ensemble_boxes/ensemble_boxes_wbf.py:66: UserWarning: Zero area box skipped: [1.0, 0.024456370621919632, 1.0, 0.22316217422485352].\n",
            "  warnings.warn(\"Zero area box skipped: {}.\".format(box_part))\n",
            "/opt/conda/envs/detection/lib/python3.7/site-packages/ensemble_boxes/ensemble_boxes_wbf.py:66: UserWarning: Zero area box skipped: [1.0, 0.17348669469356537, 1.0, 0.31211307644844055].\n",
            "  warnings.warn(\"Zero area box skipped: {}.\".format(box_part))\n",
            "/opt/conda/envs/detection/lib/python3.7/site-packages/ensemble_boxes/ensemble_boxes_wbf.py:66: UserWarning: Zero area box skipped: [1.0, 0.012195706367492676, 1.0, 0.403073787689209].\n",
            "  warnings.warn(\"Zero area box skipped: {}.\".format(box_part))\n",
            "/opt/conda/envs/detection/lib/python3.7/site-packages/ensemble_boxes/ensemble_boxes_wbf.py:66: UserWarning: Zero area box skipped: [0.0, 0.0, 0.0, 0.14472098648548126].\n",
            "  warnings.warn(\"Zero area box skipped: {}.\".format(box_part))\n",
            "/opt/conda/envs/detection/lib/python3.7/site-packages/ensemble_boxes/ensemble_boxes_wbf.py:66: UserWarning: Zero area box skipped: [1.0, 0.0023835182655602694, 1.0, 0.2706865072250366].\n",
            "  warnings.warn(\"Zero area box skipped: {}.\".format(box_part))\n",
            "/opt/conda/envs/detection/lib/python3.7/site-packages/ensemble_boxes/ensemble_boxes_wbf.py:66: UserWarning: Zero area box skipped: [1.0, 0.02529938332736492, 1.0, 0.23470528423786163].\n",
            "  warnings.warn(\"Zero area box skipped: {}.\".format(box_part))\n",
            "/opt/conda/envs/detection/lib/python3.7/site-packages/ensemble_boxes/ensemble_boxes_wbf.py:66: UserWarning: Zero area box skipped: [1.0, 0.4069724977016449, 1.0, 1.0].\n",
            "  warnings.warn(\"Zero area box skipped: {}.\".format(box_part))\n",
            "/opt/conda/envs/detection/lib/python3.7/site-packages/ensemble_boxes/ensemble_boxes_wbf.py:66: UserWarning: Zero area box skipped: [1.0, 0.045048899948596954, 1.0, 0.2124604433774948].\n",
            "  warnings.warn(\"Zero area box skipped: {}.\".format(box_part))\n",
            "/opt/conda/envs/detection/lib/python3.7/site-packages/ensemble_boxes/ensemble_boxes_wbf.py:66: UserWarning: Zero area box skipped: [1.0, 0.00799626111984253, 1.0, 0.3765939772129059].\n",
            "  warnings.warn(\"Zero area box skipped: {}.\".format(box_part))\n",
            "/opt/conda/envs/detection/lib/python3.7/site-packages/ensemble_boxes/ensemble_boxes_wbf.py:66: UserWarning: Zero area box skipped: [1.0, 0.02671024762094021, 1.0, 0.21753787994384766].\n",
            "  warnings.warn(\"Zero area box skipped: {}.\".format(box_part))\n",
            "/opt/conda/envs/detection/lib/python3.7/site-packages/ensemble_boxes/ensemble_boxes_wbf.py:66: UserWarning: Zero area box skipped: [1.0, 0.04563678428530693, 1.0, 0.20415548980236053].\n",
            "  warnings.warn(\"Zero area box skipped: {}.\".format(box_part))\n",
            "/opt/conda/envs/detection/lib/python3.7/site-packages/ensemble_boxes/ensemble_boxes_wbf.py:66: UserWarning: Zero area box skipped: [0.8688023686408997, 1.0, 1.0, 1.0].\n",
            "  warnings.warn(\"Zero area box skipped: {}.\".format(box_part))\n",
            "/opt/conda/envs/detection/lib/python3.7/site-packages/ensemble_boxes/ensemble_boxes_wbf.py:66: UserWarning: Zero area box skipped: [1.0, 0.035777248442173004, 1.0, 0.2135833352804184].\n",
            "  warnings.warn(\"Zero area box skipped: {}.\".format(box_part))\n"
          ]
        }
      ],
      "source": [
        "prediction_strings = []\n",
        "file_names = []\n",
        "# ensemble 시 설정할 iou threshold 이 부분을 바꿔가며 대회 metric에 알맞게 적용해봐요!\n",
        "iou_thr = 0.6\n",
        "\n",
        "# 각 image id 별로 submission file에서 box좌표 추출\n",
        "for i, image_id in enumerate(image_ids):\n",
        "    prediction_string = ''\n",
        "    boxes_list = []\n",
        "    scores_list = []\n",
        "    labels_list = []\n",
        "    image_info = coco.loadImgs(i)[0]\n",
        "#     각 submission file 별로 prediction box좌표 불러오기\n",
        "    for df in submission_df:\n",
        "        predict_string = df[df['image_id'] == image_id]['PredictionString'].tolist()[0]\n",
        "        predict_list = str(predict_string).split()\n",
        "        \n",
        "        if len(predict_list)==0 or len(predict_list)==1:\n",
        "            continue\n",
        "            \n",
        "        predict_list = np.reshape(predict_list, (-1, 6))\n",
        "        box_list = []\n",
        "        \n",
        "        for box in predict_list[:, 2:6].tolist():\n",
        "            box[0] = float(box[0]) / image_info['width']\n",
        "            box[1] = float(box[1]) / image_info['height']\n",
        "            box[2] = float(box[2]) / image_info['width']\n",
        "            box[3] = float(box[3]) / image_info['height']\n",
        "            box_list.append(box)\n",
        "            \n",
        "        boxes_list.append(box_list)\n",
        "        scores_list.append(list(map(float, predict_list[:, 1].tolist())))\n",
        "        labels_list.append(list(map(int, predict_list[:, 0].tolist())))\n",
        "    \n",
        "#     예측 box가 있다면 이를 ensemble 수행\n",
        "    if len(boxes_list):\n",
        "        boxes, scores, labels = weighted_boxes_fusion(boxes_list, scores_list, labels_list, iou_thr=iou_thr)\n",
        "        for box, score, label in zip(boxes, scores, labels):\n",
        "            prediction_string += str(int(label)) + ' ' + str(score) + ' ' + str(box[0] * image_info['width']) + ' ' + str(box[1] * image_info['height']) + ' ' + str(box[2] * image_info['width']) + ' ' + str(box[3] * image_info['height']) + ' '\n",
        "    \n",
        "    prediction_strings.append(prediction_string)\n",
        "    file_names.append(image_id)"
      ]
    },
    {
      "cell_type": "code",
      "execution_count": 18,
      "metadata": {
        "id": "_-SgM3p2sOwd"
      },
      "outputs": [
        {
          "data": {
            "text/html": [
              "<div>\n",
              "<style scoped>\n",
              "    .dataframe tbody tr th:only-of-type {\n",
              "        vertical-align: middle;\n",
              "    }\n",
              "\n",
              "    .dataframe tbody tr th {\n",
              "        vertical-align: top;\n",
              "    }\n",
              "\n",
              "    .dataframe thead th {\n",
              "        text-align: right;\n",
              "    }\n",
              "</style>\n",
              "<table border=\"1\" class=\"dataframe\">\n",
              "  <thead>\n",
              "    <tr style=\"text-align: right;\">\n",
              "      <th></th>\n",
              "      <th>PredictionString</th>\n",
              "      <th>image_id</th>\n",
              "    </tr>\n",
              "  </thead>\n",
              "  <tbody>\n",
              "    <tr>\n",
              "      <th>0</th>\n",
              "      <td>7 0.9833027124404907 601.9415283203125 518.884...</td>\n",
              "      <td>test/0000.jpg</td>\n",
              "    </tr>\n",
              "    <tr>\n",
              "      <th>1</th>\n",
              "      <td>5 0.9315943121910095 344.392333984375 252.1051...</td>\n",
              "      <td>test/0001.jpg</td>\n",
              "    </tr>\n",
              "    <tr>\n",
              "      <th>2</th>\n",
              "      <td>1 0.9552582502365112 74.83662414550781 272.610...</td>\n",
              "      <td>test/0002.jpg</td>\n",
              "    </tr>\n",
              "    <tr>\n",
              "      <th>3</th>\n",
              "      <td>9 0.9146756529808044 143.63552856445312 257.20...</td>\n",
              "      <td>test/0003.jpg</td>\n",
              "    </tr>\n",
              "    <tr>\n",
              "      <th>4</th>\n",
              "      <td>0 0.7580344676971436 193.49554443359375 251.73...</td>\n",
              "      <td>test/0004.jpg</td>\n",
              "    </tr>\n",
              "  </tbody>\n",
              "</table>\n",
              "</div>"
            ],
            "text/plain": [
              "                                    PredictionString       image_id\n",
              "0  7 0.9833027124404907 601.9415283203125 518.884...  test/0000.jpg\n",
              "1  5 0.9315943121910095 344.392333984375 252.1051...  test/0001.jpg\n",
              "2  1 0.9552582502365112 74.83662414550781 272.610...  test/0002.jpg\n",
              "3  9 0.9146756529808044 143.63552856445312 257.20...  test/0003.jpg\n",
              "4  0 0.7580344676971436 193.49554443359375 251.73...  test/0004.jpg"
            ]
          },
          "execution_count": 18,
          "metadata": {},
          "output_type": "execute_result"
        }
      ],
      "source": [
        "submission = pd.DataFrame()\n",
        "submission['PredictionString'] = prediction_strings\n",
        "submission['image_id'] = file_names\n",
        "submission.to_csv('results/ensemble/result_yolov5l6_pretrained_highaug_imgsize1280_epoch120_wbf_all_pseudolabeleing4_ensemble_HONEY.csv', index = None)\n",
        "\n",
        "submission.head()"
      ]
    },
    {
      "cell_type": "markdown",
      "metadata": {
        "id": "DnXVy07-sOwd"
      },
      "source": [
        "###**콘텐츠 라이선스**\n",
        "\n",
        "<font color='red'><b>**WARNING**</b></font> : **본 교육 콘텐츠의 지식재산권은 재단법인 네이버커넥트에 귀속됩니다. 본 콘텐츠를 어떠한 경로로든 외부로 유출 및 수정하는 행위를 엄격히 금합니다.** 다만, 비영리적 교육 및 연구활동에 한정되어 사용할 수 있으나 재단의 허락을 받아야 합니다. 이를 위반하는 경우, 관련 법률에 따라 책임을 질 수 있습니다.\n"
      ]
    }
  ],
  "metadata": {
    "colab": {
      "provenance": []
    },
    "kernelspec": {
      "display_name": "Python 3.7.15 ('detection')",
      "language": "python",
      "name": "python3"
    },
    "language_info": {
      "codemirror_mode": {
        "name": "ipython",
        "version": 3
      },
      "file_extension": ".py",
      "mimetype": "text/x-python",
      "name": "python",
      "nbconvert_exporter": "python",
      "pygments_lexer": "ipython3",
      "version": "3.7.15"
    },
    "vscode": {
      "interpreter": {
        "hash": "b94c6de4bce9a87a354a5fa9998691adc0532adddb9d4140f5ba941d00b01fae"
      }
    }
  },
  "nbformat": 4,
  "nbformat_minor": 0
}
