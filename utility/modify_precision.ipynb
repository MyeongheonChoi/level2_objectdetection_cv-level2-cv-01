{
 "cells": [
  {
   "cell_type": "code",
   "execution_count": 47,
   "metadata": {},
   "outputs": [],
   "source": [
    "import pandas as pd\n",
    "import numpy as np\n",
    "from tqdm import tqdm"
   ]
  },
  {
   "cell_type": "code",
   "execution_count": 48,
   "metadata": {},
   "outputs": [],
   "source": [
    "df = pd.read_csv('submission/real/submission1.csv')"
   ]
  },
  {
   "cell_type": "code",
   "execution_count": 50,
   "metadata": {},
   "outputs": [
    {
     "name": "stderr",
     "output_type": "stream",
     "text": [
      "100%|██████████| 4871/4871 [00:14<00:00, 335.09it/s]\n"
     ]
    }
   ],
   "source": [
    "# method 1\n",
    "cut_line = 50\n",
    "\n",
    "l = []\n",
    "for i in tqdm(df['PredictionString']):\n",
    "    j = np.array(i.split()).reshape(-1, 6)[:-cut_line, :]\n",
    "    string = ''\n",
    "    for k in j:\n",
    "        string += ' '.join(k) + ' '\n",
    "    l.append(string)"
   ]
  },
  {
   "cell_type": "code",
   "execution_count": 51,
   "metadata": {},
   "outputs": [],
   "source": [
    "df['PredictionString'] = l\n",
    "df.to_csv('submission/real/submission1_newedit.csv', index = None)"
   ]
  },
  {
   "cell_type": "code",
   "execution_count": 9,
   "metadata": {},
   "outputs": [
    {
     "name": "stderr",
     "output_type": "stream",
     "text": [
      "100%|██████████| 4871/4871 [00:13<00:00, 352.21it/s]\n"
     ]
    }
   ],
   "source": [
    "# method 2\n",
    "cut_line = 10\n",
    "\n",
    "l = []\n",
    "for i in tqdm(df['PredictionString']):\n",
    "    j = np.array(i.split()).reshape(-1, 6)\n",
    "    string = ''\n",
    "    for k in j:\n",
    "        string += f'{k[0]} {k[1]} {k[2][:cut_line]} {k[3][:cut_line]} {k[4][:cut_line]} {k[5][:cut_line]}' \n",
    "    l.append(string)"
   ]
  },
  {
   "cell_type": "code",
   "execution_count": 10,
   "metadata": {},
   "outputs": [],
   "source": [
    "df['PredictionString'] = l\n",
    "df.to_csv('submission/real/submission1_edit.csv', index = None)"
   ]
  }
 ],
 "metadata": {
  "kernelspec": {
   "display_name": "Python 3.8.0 ('pytorch_env')",
   "language": "python",
   "name": "python3"
  },
  "language_info": {
   "codemirror_mode": {
    "name": "ipython",
    "version": 3
   },
   "file_extension": ".py",
   "mimetype": "text/x-python",
   "name": "python",
   "nbconvert_exporter": "python",
   "pygments_lexer": "ipython3",
   "version": "3.8.0"
  },
  "orig_nbformat": 4,
  "vscode": {
   "interpreter": {
    "hash": "a67f7df1b1958625866e4b43de20b9628e598a655f6350bbf125981f221a1fdc"
   }
  }
 },
 "nbformat": 4,
 "nbformat_minor": 2
}
