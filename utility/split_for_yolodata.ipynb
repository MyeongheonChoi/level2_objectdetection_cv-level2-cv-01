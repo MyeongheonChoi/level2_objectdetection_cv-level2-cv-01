{
 "cells": [
  {
   "cell_type": "code",
   "execution_count": 1,
   "metadata": {},
   "outputs": [],
   "source": [
    "import os, shutil, json\n",
    "from tqdm.notebook import tqdm"
   ]
  },
  {
   "cell_type": "code",
   "execution_count": 16,
   "metadata": {},
   "outputs": [
    {
     "data": {
      "application/vnd.jupyter.widget-view+json": {
       "model_id": "f737a6d9e2aa422b985d05ac5f8949f8",
       "version_major": 2,
       "version_minor": 0
      },
      "text/plain": [
       "  0%|          | 0/3908 [00:00<?, ?it/s]"
      ]
     },
     "metadata": {},
     "output_type": "display_data"
    }
   ],
   "source": [
    "# train_f{idx}.json\n",
    "\n",
    "idx = 0\n",
    "\n",
    "with open(f'./dataset/train_f{idx}.json', 'r') as f:\n",
    "    dat = json.load(f)\n",
    "train_img = [img['file_name'] for img in dat['images']]\n",
    "\n",
    "for i in tqdm(train_img):\n",
    "    shutil.copy(os.path.join('./dataset', i), \n",
    "                os.path.join(f'./dataset/yolo_train/train_f{idx}', i))"
   ]
  },
  {
   "cell_type": "code",
   "execution_count": 21,
   "metadata": {},
   "outputs": [
    {
     "data": {
      "application/vnd.jupyter.widget-view+json": {
       "model_id": "7685cd1b6b2740eea76ccbca3001ad89",
       "version_major": 2,
       "version_minor": 0
      },
      "text/plain": [
       "  0%|          | 0/975 [00:00<?, ?it/s]"
      ]
     },
     "metadata": {},
     "output_type": "display_data"
    }
   ],
   "source": [
    "# valid_f{idx}.json\n",
    "\n",
    "idx = 0\n",
    "\n",
    "with open(f'./dataset/valid_f{idx}.json', 'r') as f:\n",
    "    dat = json.load(f)\n",
    "valid_img = [img['file_name'] for img in dat['images']]\n",
    "\n",
    "for i in tqdm(valid_img):\n",
    "    shutil.copy(os.path.join('./dataset', i), \n",
    "                os.path.join(f'./dataset/yolo_train/valid_f{idx}', i))"
   ]
  },
  {
   "cell_type": "code",
   "execution_count": null,
   "metadata": {},
   "outputs": [],
   "source": [
    "# test.json\n",
    "\n",
    "with open(f'./dataset/test.json', 'r') as f:\n",
    "    dat = json.load(f)\n",
    "valid_img = [img['file_name'] for img in dat['images']]\n",
    "\n",
    "for i in tqdm(valid_img):\n",
    "    shutil.copy(os.path.join('./dataset', i), \n",
    "                os.path.join(f'./dataset/yolo_train/test', i))"
   ]
  }
 ],
 "metadata": {
  "kernelspec": {
   "display_name": "Python 3.7.15 ('detection')",
   "language": "python",
   "name": "python3"
  },
  "language_info": {
   "codemirror_mode": {
    "name": "ipython",
    "version": 3
   },
   "file_extension": ".py",
   "mimetype": "text/x-python",
   "name": "python",
   "nbconvert_exporter": "python",
   "pygments_lexer": "ipython3",
   "version": "3.7.15"
  },
  "orig_nbformat": 4,
  "vscode": {
   "interpreter": {
    "hash": "b94c6de4bce9a87a354a5fa9998691adc0532adddb9d4140f5ba941d00b01fae"
   }
  }
 },
 "nbformat": 4,
 "nbformat_minor": 2
}
