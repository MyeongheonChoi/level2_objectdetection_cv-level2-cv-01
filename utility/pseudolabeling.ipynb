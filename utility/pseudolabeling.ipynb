{
 "cells": [
  {
   "cell_type": "code",
   "execution_count": null,
   "metadata": {},
   "outputs": [],
   "source": [
    "import os\n",
    "import json\n",
    "\n",
    "import pandas as pd\n",
    "import numpy as np"
   ]
  },
  {
   "cell_type": "code",
   "execution_count": null,
   "metadata": {},
   "outputs": [],
   "source": [
    "file_name = 'faster_rcnn_mmdetection_submission.csv'\n",
    "file_dir = os.path.join('../submission', file_name)\n",
    "pseudo = pd.read_csv(file_dir)\n",
    "pseudo"
   ]
  },
  {
   "cell_type": "code",
   "execution_count": null,
   "metadata": {},
   "outputs": [],
   "source": [
    "data_dir = '../../dataset'\n",
    "test_json = json.load(open(os.path.join(data_dir,'test.json')))"
   ]
  },
  {
   "cell_type": "code",
   "execution_count": null,
   "metadata": {},
   "outputs": [],
   "source": [
    "thr = 0.6\n",
    "\n",
    "box_id=0\n",
    "\n",
    "for i in range(4871):\n",
    "\n",
    "    if type(pseudo['PredictionString'][i])==str: # pred가 없는 이미지는 무시\n",
    "        for j in range(len(pseudo['PredictionString'][i].split(' '))//6):\n",
    "            o = pseudo['PredictionString'][i].split(' ')\n",
    "            id, score, xmin, ymin, xmax, ymax = map(float,o[6*j: 6*(j+1)])\n",
    "            if score<thr:\n",
    "                continue\n",
    "            id, xmin, ymin, xmax, ymax = map(int, [id, xmin, ymin, xmax, ymax])\n",
    "            w = xmax - xmin\n",
    "            h = ymax - ymin\n",
    "\n",
    "            info = dict()\n",
    "            info['image_id'] = i\n",
    "            info['category_id'] = id\n",
    "            info['area'] = w*h\n",
    "            info['bbox'] = [xmin, ymin, w, h]\n",
    "            info['iscrowd'] = 0 # 겹친 박스가 있는지 여부\n",
    "            info['id'] = box_id # 박스 id\n",
    "            box_id += 1\n",
    "            test_json['annotations'].append(info)\n",
    "        "
   ]
  },
  {
   "cell_type": "code",
   "execution_count": null,
   "metadata": {},
   "outputs": [],
   "source": [
    "with open(os.path.join(data_dir, f\"pseudo_{file_name.split('.')[0]}.json\"),'w') as f:\n",
    "        json.dump(test_json, f, indent=4)"
   ]
  }
 ],
 "metadata": {
  "kernelspec": {
   "display_name": "Python 3.8.0 ('pytorch_env')",
   "language": "python",
   "name": "python3"
  },
  "language_info": {
   "codemirror_mode": {
    "name": "ipython",
    "version": 3
   },
   "file_extension": ".py",
   "mimetype": "text/x-python",
   "name": "python",
   "nbconvert_exporter": "python",
   "pygments_lexer": "ipython3",
   "version": "3.8.0"
  },
  "orig_nbformat": 4,
  "vscode": {
   "interpreter": {
    "hash": "a67f7df1b1958625866e4b43de20b9628e598a655f6350bbf125981f221a1fdc"
   }
  }
 },
 "nbformat": 4,
 "nbformat_minor": 2
}
