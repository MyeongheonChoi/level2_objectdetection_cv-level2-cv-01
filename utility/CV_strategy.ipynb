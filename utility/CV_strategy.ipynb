{
 "cells": [
  {
   "cell_type": "code",
   "execution_count": null,
   "id": "df9735a1",
   "metadata": {},
   "outputs": [],
   "source": [
    "import json\n",
    "import numpy as np\n",
    "import pandas as pd\n",
    "import matplotlib.pyplot as plt\n",
    "from collections import Counter\n",
    "from pycocotools.coco import COCO\n",
    "from sklearn.model_selection import StratifiedGroupKFold"
   ]
  },
  {
   "cell_type": "code",
   "execution_count": null,
   "id": "515fed20",
   "metadata": {},
   "outputs": [],
   "source": [
    "with open('dataset/train.json', 'r') as f:\n",
    "    train = json.load(f)"
   ]
  },
  {
   "cell_type": "code",
   "execution_count": null,
   "id": "298f2569",
   "metadata": {},
   "outputs": [],
   "source": [
    "train"
   ]
  },
  {
   "cell_type": "markdown",
   "id": "10f4e75c",
   "metadata": {},
   "source": [
    "### Imgae 단위 class distribution을 똑같이 나누는 cv strategy"
   ]
  },
  {
   "cell_type": "code",
   "execution_count": null,
   "id": "33c45251",
   "metadata": {},
   "outputs": [],
   "source": [
    "coco = COCO('./dataset/train.json')\n",
    "\n",
    "train_df = pd.DataFrame()\n",
    "\n",
    "image_ids = []\n",
    "class_name = []\n",
    "class_id = []\n",
    "x_min = []\n",
    "y_min = []\n",
    "x_max = []\n",
    "y_max = []\n",
    "classes = [\"General trash\", \"Paper\", \"Paper pack\", \"Metal\", \"Glass\", \n",
    "           \"Plastic\", \"Styrofoam\", \"Plastic bag\", \"Battery\", \"Clothing\"]\n",
    "for image_id in coco.getImgIds():\n",
    "        \n",
    "    image_info = coco.loadImgs(image_id)[0]\n",
    "    ann_ids = coco.getAnnIds(imgIds=image_info['id'])\n",
    "    anns = coco.loadAnns(ann_ids)\n",
    "        \n",
    "    file_name = image_info['file_name']\n",
    "        \n",
    "    for ann in anns:\n",
    "        image_ids.append(file_name)\n",
    "        class_name.append(classes[ann['category_id']])\n",
    "        class_id.append(ann['category_id'])\n",
    "        x_min.append(float(ann['bbox'][0]))\n",
    "        y_min.append(float(ann['bbox'][1]))\n",
    "        x_max.append(float(ann['bbox'][0]) + float(ann['bbox'][2]))\n",
    "        y_max.append(float(ann['bbox'][1]) + float(ann['bbox'][3]))\n",
    "\n",
    "train_df['image_id'] = image_ids\n",
    "train_df['class_name'] = class_name\n",
    "train_df['class_id'] = class_id\n",
    "train_df['x_min'] = x_min\n",
    "train_df['y_min'] = y_min\n",
    "train_df['x_max'] = x_max\n",
    "train_df['y_max'] = y_max"
   ]
  },
  {
   "cell_type": "code",
   "execution_count": null,
   "id": "cc3d6b47",
   "metadata": {},
   "outputs": [],
   "source": [
    "cv = StratifiedGroupKFold(n_splits=5, shuffle = True, random_state=2022)\n",
    "\n",
    "var = [(dat['image_id'], dat['category_id']) for dat in train['annotations']]\n",
    "\n",
    "X = np.ones((len(var), ))\n",
    "y = np.array([v[1] for v in var])\n",
    "groups = np.array([v[0] for v in  var])\n",
    "\n",
    "for train_idx, test_idx in cv.split(X, y, groups):\n",
    "    print(\"TRAIN:\", groups[train_idx])\n",
    "    print(\"      \", y[train_idx])\n",
    "    print(\"TEST :\", groups[test_idx])\n",
    "    print(\"      \", y[test_idx])"
   ]
  },
  {
   "cell_type": "code",
   "execution_count": null,
   "id": "b5000a93",
   "metadata": {},
   "outputs": [],
   "source": [
    "cv = StratifiedGroupKFold(n_splits=5, shuffle = True, random_state=2022)\n",
    "\n",
    "# check distribution\n",
    "def get_distribution(y):\n",
    "    y_distr = Counter(y)\n",
    "    y_vals_sum = sum(y_distr.values())\n",
    "    \n",
    "    return [f'{y_distr[i]/y_vals_sum:.2%}'  for i in range(np.max(y) +1)]\n",
    "    \n",
    "distrs = [get_distribution(y)]\n",
    "index = ['training set']\n",
    "\n",
    "for fold_ind, (train_idx, val_idx) in enumerate(cv.split(X,y, groups)):\n",
    "    train_y, val_y = y[train_idx], y[val_idx]\n",
    "    train_gr, val_gr = groups[train_idx], groups[val_idx]\n",
    "    \n",
    "    assert len(set(train_gr) & set(val_gr)) == 0\n",
    "    \n",
    "    distrs.append(get_distribution(train_y))\n",
    "    distrs.append(get_distribution(val_y))\n",
    "    \n",
    "    index.append(f'train - fold{fold_ind}')\n",
    "    index.append(f'val - fold{fold_ind}')\n",
    "                 \n",
    "categories = [d['name'] for d in train['categories']]\n",
    "\n",
    "pd.DataFrame(distrs, index=index, columns = [categories[i] for i in range(np.max(y) + 1)])"
   ]
  },
  {
   "cell_type": "code",
   "execution_count": null,
   "id": "05b69085",
   "metadata": {},
   "outputs": [],
   "source": [
    "cv = StratifiedGroupKFold(n_splits=5, shuffle = True, random_state=2022)\n",
    "\n",
    "for idx, (train_idx, valid_idx) in enumerate(cv.split(X,y, groups)):\n",
    "    train_fold = dict();valid_fold = dict()\n",
    "    \n",
    "    train_fold['info'] = train['info']\n",
    "    train_fold['licenses'] = train['licenses']\n",
    "    train_fold['images'] = [image for image in train['images'] if image['id'] in set(groups[train_idx])]\n",
    "    train_fold['categories'] = train['categories']\n",
    "    train_fold['annotations'] = [ann for idx, ann in enumerate(train['annotations']) if idx in train_idx]\n",
    "    \n",
    "    valid_fold['info'] = train['info']\n",
    "    valid_fold['licenses'] = train['licenses']\n",
    "    valid_fold['images'] = [image for image in train['images'] if image['id'] in set(groups[valid_idx])]\n",
    "    valid_fold['categories'] = train['categories']\n",
    "    valid_fold['annotations'] = [ann for idx, ann in enumerate(train['annotations']) if idx in valid_idx]\n",
    "    \n",
    "    with open(f'train_f{idx}.json', 'w') as f:\n",
    "        json.dump(train_fold, f, indent = 4)\n",
    "\n",
    "    with open(f'valid_f{idx}.json', 'w') as f:\n",
    "        json.dump(valid_fold, f, indent = 4)"
   ]
  },
  {
   "cell_type": "markdown",
   "id": "1ff35e37",
   "metadata": {},
   "source": [
    "### Imgae 단위 class distribution과 bbox aspect ratio 똑같이 나누는 cv strategy"
   ]
  },
  {
   "cell_type": "code",
   "execution_count": null,
   "id": "9f947a51",
   "metadata": {},
   "outputs": [],
   "source": [
    "coco = COCO('./dataset/train_f0.json')\n",
    "\n",
    "train_df = pd.DataFrame()\n",
    "\n",
    "image_ids = []\n",
    "class_name = []\n",
    "class_id = []\n",
    "x_min = []\n",
    "y_min = []\n",
    "x_max = []\n",
    "y_max = []\n",
    "classes = [\"General trash\", \"Paper\", \"Paper pack\", \"Metal\", \"Glass\", \n",
    "           \"Plastic\", \"Styrofoam\", \"Plastic bag\", \"Battery\", \"Clothing\"]\n",
    "for image_id in coco.getImgIds():\n",
    "        \n",
    "    image_info = coco.loadImgs(image_id)[0]\n",
    "    ann_ids = coco.getAnnIds(imgIds=image_info['id'])\n",
    "    anns = coco.loadAnns(ann_ids)\n",
    "        \n",
    "    file_name = image_info['file_name']\n",
    "        \n",
    "    for ann in anns:\n",
    "        image_ids.append(file_name)\n",
    "        class_name.append(classes[ann['category_id']])\n",
    "        class_id.append(ann['category_id'])\n",
    "        x_min.append(float(ann['bbox'][0]))\n",
    "        y_min.append(float(ann['bbox'][1]))\n",
    "        x_max.append(float(ann['bbox'][0]) + float(ann['bbox'][2]))\n",
    "        y_max.append(float(ann['bbox'][1]) + float(ann['bbox'][3]))\n",
    "\n",
    "train_df['image_id'] = image_ids\n",
    "train_df['class_name'] = class_name\n",
    "train_df['class_id'] = class_id\n",
    "train_df['x_min'] = x_min\n",
    "train_df['y_min'] = y_min\n",
    "train_df['x_max'] = x_max\n",
    "train_df['y_max'] = y_max"
   ]
  },
  {
   "cell_type": "code",
   "execution_count": null,
   "id": "3886cba5",
   "metadata": {},
   "outputs": [],
   "source": [
    "train_df['wh_ratio'] = (train_df['x_max'] - train_df['x_min']) / (train_df['y_max'] - train_df['y_min'])\n",
    "train_df['aspect_ratio'] = (train_df['x_max'] - train_df['x_min']) * (train_df['y_max'] - train_df['y_min']) / (1024*1024)"
   ]
  },
  {
   "cell_type": "code",
   "execution_count": null,
   "id": "bfd40e7c",
   "metadata": {},
   "outputs": [],
   "source": [
    "aspect = []\n",
    "for i in train_df['aspect_ratio']:\n",
    "    if i < 0.01:\n",
    "        aspect.append('small')\n",
    "    elif i < 0.05:\n",
    "        aspect.append('medium')\n",
    "    else:\n",
    "        aspect.append('large')\n",
    "train_df['aspect'] = aspect"
   ]
  },
  {
   "cell_type": "code",
   "execution_count": null,
   "id": "97767502",
   "metadata": {},
   "outputs": [],
   "source": [
    "train_df['want'] = train_df['class_name'] + '-' + train_df['aspect']\n",
    "wd = {key:val for val, key in enumerate(sorted(train_df['want'].unique()))}\n",
    "\n",
    "imgint = [int(i[6:10]) for i in train_df['image_id']]\n",
    "categoryint = [wd[i] for i in train_df['want']]\n",
    "train_df['image_int'] = imgint\n",
    "train_df['want_int'] = categoryint\n",
    "\n",
    "train_df"
   ]
  },
  {
   "cell_type": "code",
   "execution_count": null,
   "id": "ccd15437",
   "metadata": {},
   "outputs": [],
   "source": [
    "cv = StratifiedGroupKFold(n_splits=5, shuffle = True, random_state=2022)\n",
    "\n",
    "var = [(train_df.loc[idx, 'image_int'], train_df.loc[idx, 'want_int']) for idx in range(len(train_df))]\n",
    "\n",
    "X = np.ones((len(var), ))\n",
    "y = np.array([v[1] for v in var])\n",
    "groups = np.array([v[0] for v in  var])\n",
    "\n",
    "for train_idx, test_idx in cv.split(X, y, groups):\n",
    "    print(\"TRAIN:\", groups[train_idx])\n",
    "    print(\"      \", y[train_idx])\n",
    "    print(\"TEST :\", groups[test_idx])\n",
    "    print(\"      \", y[test_idx])"
   ]
  },
  {
   "cell_type": "code",
   "execution_count": null,
   "id": "0b3830c8",
   "metadata": {},
   "outputs": [],
   "source": [
    "cv = StratifiedGroupKFold(n_splits=5, shuffle = True, random_state=2022)\n",
    "\n",
    "# check distribution\n",
    "def get_distribution(y):\n",
    "    y_distr = Counter(y)\n",
    "    y_vals_sum = sum(y_distr.values())\n",
    "    \n",
    "    return [f'{y_distr[i]/y_vals_sum:.2%}'  for i in range(np.max(y) +1)]\n",
    "    \n",
    "distrs = [get_distribution(y)]\n",
    "index = ['training set']\n",
    "\n",
    "for fold_ind, (train_idx, val_idx) in enumerate(cv.split(X,y, groups)):\n",
    "    train_y, val_y = y[train_idx], y[val_idx]\n",
    "    train_gr, val_gr = groups[train_idx], groups[val_idx]\n",
    "    \n",
    "    assert len(set(train_gr) & set(val_gr)) == 0\n",
    "    \n",
    "    distrs.append(get_distribution(train_y))\n",
    "    distrs.append(get_distribution(val_y))\n",
    "    \n",
    "    index.append(f'train - fold{fold_ind}')\n",
    "    index.append(f'val - fold{fold_ind}')\n",
    "                 \n",
    "categories = [d for d in wd.keys()]\n",
    "\n",
    "pd.DataFrame(distrs, index=index, columns = [categories[i] for i in range(np.max(y) + 1)])"
   ]
  },
  {
   "cell_type": "code",
   "execution_count": null,
   "id": "c7db7fdb",
   "metadata": {},
   "outputs": [],
   "source": [
    "cv = StratifiedGroupKFold(n_splits=5, shuffle = True, random_state=2022)\n",
    "\n",
    "for idx, (train_idx, valid_idx) in enumerate(cv.split(X,y, groups)):\n",
    "    train_fold = dict();valid_fold = dict()\n",
    "    \n",
    "    train_fold['info'] = train['info']\n",
    "    train_fold['licenses'] = train['licenses']\n",
    "    train_fold['images'] = [image for image in train['images'] if image['id'] in set(groups[train_idx])]\n",
    "    train_fold['categories'] = train['categories']\n",
    "    train_fold['annotations'] = [ann for idx, ann in enumerate(train['annotations']) if idx in train_idx]\n",
    "    \n",
    "    valid_fold['info'] = train['info']\n",
    "    valid_fold['licenses'] = train['licenses']\n",
    "    valid_fold['images'] = [image for image in train['images'] if image['id'] in set(groups[valid_idx])]\n",
    "    valid_fold['categories'] = train['categories']\n",
    "    valid_fold['annotations'] = [ann for idx, ann in enumerate(train['annotations']) if idx in valid_idx]\n",
    "    \n",
    "    with open(f'train_newf{idx}.json', 'w') as f:\n",
    "        json.dump(train_fold, f, indent = 4)\n",
    "\n",
    "    with open(f'valid_newf{idx}.json', 'w') as f:\n",
    "        json.dump(valid_fold, f, indent = 4)"
   ]
  }
 ],
 "metadata": {
  "kernelspec": {
   "display_name": "Python 3.8.0 ('pytorch_env')",
   "language": "python",
   "name": "python3"
  },
  "language_info": {
   "codemirror_mode": {
    "name": "ipython",
    "version": 3
   },
   "file_extension": ".py",
   "mimetype": "text/x-python",
   "name": "python",
   "nbconvert_exporter": "python",
   "pygments_lexer": "ipython3",
   "version": "3.8.0"
  },
  "vscode": {
   "interpreter": {
    "hash": "a67f7df1b1958625866e4b43de20b9628e598a655f6350bbf125981f221a1fdc"
   }
  }
 },
 "nbformat": 4,
 "nbformat_minor": 5
}
