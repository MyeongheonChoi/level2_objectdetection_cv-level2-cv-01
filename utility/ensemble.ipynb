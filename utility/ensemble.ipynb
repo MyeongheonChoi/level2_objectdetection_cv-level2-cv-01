{
 "cells": [
  {
   "cell_type": "code",
   "execution_count": 1,
   "metadata": {},
   "outputs": [],
   "source": [
    "import os\n",
    "import pandas as pd\n",
    "from ensemble_boxes import *\n",
    "import numpy as np\n",
    "from pycocotools.coco import COCO\n",
    "from tqdm import tqdm\n",
    "\n",
    "import warnings\n",
    "\n",
    "warnings.filterwarnings( 'ignore' )"
   ]
  },
  {
   "cell_type": "code",
   "execution_count": 2,
   "metadata": {},
   "outputs": [
    {
     "name": "stderr",
     "output_type": "stream",
     "text": [
      "100%|██████████| 16/16 [00:04<00:00,  3.35it/s]\n"
     ]
    }
   ],
   "source": [
    "sub_dir = '../../submission'\n",
    "submission_files = [\n",
    "                    # 'result_swin_f0_default_1e-3.csv',\n",
    "                    # 'result_swin_f1_default_1e-3.csv',\n",
    "                    # 'result_swin_f2_default_1e-3.csv',\n",
    "                    # 'result_swin_f3_default_1e-3.csv',\n",
    "                    # 'result_swin_f4_default_1e-3.csv',\n",
    "\n",
    "                    # 'result_swin_f0_pseudo_1e-3.csv',\n",
    "                    # 'result_swin_f1_pseudo_1e-3.csv',\n",
    "                    # 'result_swin_f2_pseudo_1e-3.csv',\n",
    "                    # 'result_swin_f3_pseudo_1e-3.csv',\n",
    "                    # 'result_swin_f4_pseudo_1e-3.csv',\n",
    "\n",
    "                    'result_yolov5l6_f0_default_1e-3.csv',\n",
    "                    'result_yolov5l6_f1_default_1e-3.csv',\n",
    "                    'result_yolov5l6_f2_default_1e-3.csv',\n",
    "                    'result_yolov5l6_f3_default_1e-3.csv',\n",
    "                    'result_yolov5l6_f4_default_1e-3.csv',\n",
    "\n",
    "                    'result_yolov5l6_f2_pseudo_1e-3.csv',\n",
    "                    'result_yolov5l6_f3_pseudo_1e-3.csv',\n",
    "                    'result_yolov5l6_f4_pseudo_1e-3.csv',\n",
    "\n",
    "                    'result_yolov7w6_f0_default_1e-3.csv',\n",
    "                    'result_yolov7w6_f1_default_1e-3.csv',\n",
    "                    'result_yolov7w6_f2_default_1e-3.csv',\n",
    "                    'result_yolov7w6_f3_default_1e-3.csv',\n",
    "                    'result_yolov7w6_f4_default_1e-3.csv',\n",
    "\n",
    "                    'result_yolov7w6_f2_pseudo_1e-3.csv',\n",
    "                    'result_yolov7w6_f3_pseudo_1e-3.csv',\n",
    "                    'result_yolov7w6_f4_pseudo_1e-3.csv',\n",
    "                    ]\n",
    "\n",
    "submission_df = [pd.read_csv(os.path.join(sub_dir, file)) for file in tqdm(submission_files)]"
   ]
  },
  {
   "cell_type": "code",
   "execution_count": 3,
   "metadata": {},
   "outputs": [],
   "source": [
    "image_ids = submission_df[0]['image_id'].tolist()"
   ]
  },
  {
   "cell_type": "code",
   "execution_count": 4,
   "metadata": {},
   "outputs": [
    {
     "name": "stdout",
     "output_type": "stream",
     "text": [
      "loading annotations into memory...\n",
      "Done (t=0.02s)\n",
      "creating index...\n",
      "index created!\n"
     ]
    }
   ],
   "source": [
    "\n",
    "# ensemble 할 file의 image 정보를 불러오기 위한 json\n",
    "annotation = '../../dataset/test.json'\n",
    "coco = COCO(annotation)"
   ]
  },
  {
   "cell_type": "code",
   "execution_count": 5,
   "metadata": {},
   "outputs": [
    {
     "name": "stderr",
     "output_type": "stream",
     "text": [
      "100%|██████████| 4871/4871 [07:27<00:00, 10.89it/s]\n"
     ]
    }
   ],
   "source": [
    "prediction_strings = []\n",
    "file_names = []\n",
    "# ensemble 시 설정할 iou threshold 이 부분을 바꿔가며 대회 metric에 알맞게 적용해봐요!\n",
    "iou_thr = 0.6\n",
    "\n",
    "# 각 image id 별로 submission file에서 box좌표 추출\n",
    "for i, image_id in enumerate(tqdm(image_ids)):\n",
    "    prediction_string = ''\n",
    "    boxes_list = []\n",
    "    scores_list = []\n",
    "    labels_list = []\n",
    "    image_info = coco.loadImgs(i)[0]\n",
    "#     각 submission file 별로 prediction box좌표 불러오기\n",
    "    for df in submission_df:\n",
    "        predict_string = df[df['image_id'] == image_id]['PredictionString'].tolist()[0]\n",
    "        predict_list = str(predict_string).split()\n",
    "        \n",
    "        if len(predict_list)==0 or len(predict_list)==1:\n",
    "            continue\n",
    "            \n",
    "        predict_list = np.reshape(predict_list, (-1, 6))\n",
    "        box_list = []\n",
    "        \n",
    "        for box in predict_list[:, 2:6].tolist():\n",
    "            box[0] = float(box[0]) / image_info['width']\n",
    "            box[1] = float(box[1]) / image_info['height']\n",
    "            box[2] = float(box[2]) / image_info['width']\n",
    "            box[3] = float(box[3]) / image_info['height']\n",
    "            box_list.append(box)\n",
    "            \n",
    "        boxes_list.append(box_list)\n",
    "        scores_list.append(list(map(float, predict_list[:, 1].tolist())))\n",
    "        labels_list.append(list(map(int, predict_list[:, 0].tolist())))\n",
    "    \n",
    "#     예측 box가 있다면 이를 ensemble 수행\n",
    "    if len(boxes_list):\n",
    "        boxes, scores, labels = weighted_boxes_fusion(boxes_list, scores_list, labels_list, iou_thr=iou_thr)\n",
    "        for box, score, label in zip(boxes, scores, labels):\n",
    "            prediction_string += str(int(label)) + ' ' + str(score) + ' ' + str(box[0] * image_info['width']) + ' ' + str(box[1] * image_info['height']) + ' ' + str(box[2] * image_info['width']) + ' ' + str(box[3] * image_info['height']) + ' '\n",
    "    \n",
    "    prediction_strings.append(prediction_string)\n",
    "    file_names.append(image_id)"
   ]
  },
  {
   "cell_type": "code",
   "execution_count": 6,
   "metadata": {},
   "outputs": [
    {
     "data": {
      "text/html": [
       "<div>\n",
       "<style scoped>\n",
       "    .dataframe tbody tr th:only-of-type {\n",
       "        vertical-align: middle;\n",
       "    }\n",
       "\n",
       "    .dataframe tbody tr th {\n",
       "        vertical-align: top;\n",
       "    }\n",
       "\n",
       "    .dataframe thead th {\n",
       "        text-align: right;\n",
       "    }\n",
       "</style>\n",
       "<table border=\"1\" class=\"dataframe\">\n",
       "  <thead>\n",
       "    <tr style=\"text-align: right;\">\n",
       "      <th></th>\n",
       "      <th>PredictionString</th>\n",
       "      <th>image_id</th>\n",
       "    </tr>\n",
       "  </thead>\n",
       "  <tbody>\n",
       "    <tr>\n",
       "      <th>0</th>\n",
       "      <td>7 0.9867641925811768 602.7520751953125 517.638...</td>\n",
       "      <td>test/0000.jpg</td>\n",
       "    </tr>\n",
       "    <tr>\n",
       "      <th>1</th>\n",
       "      <td>5 0.9569533467292786 343.9815368652344 251.113...</td>\n",
       "      <td>test/0001.jpg</td>\n",
       "    </tr>\n",
       "    <tr>\n",
       "      <th>2</th>\n",
       "      <td>1 0.9538099765777588 74.79302215576172 271.924...</td>\n",
       "      <td>test/0002.jpg</td>\n",
       "    </tr>\n",
       "    <tr>\n",
       "      <th>3</th>\n",
       "      <td>9 0.9284493923187256 144.9905548095703 257.729...</td>\n",
       "      <td>test/0003.jpg</td>\n",
       "    </tr>\n",
       "    <tr>\n",
       "      <th>4</th>\n",
       "      <td>1 0.7317864522337914 193.50048828125 252.26834...</td>\n",
       "      <td>test/0004.jpg</td>\n",
       "    </tr>\n",
       "  </tbody>\n",
       "</table>\n",
       "</div>"
      ],
      "text/plain": [
       "                                    PredictionString       image_id\n",
       "0  7 0.9867641925811768 602.7520751953125 517.638...  test/0000.jpg\n",
       "1  5 0.9569533467292786 343.9815368652344 251.113...  test/0001.jpg\n",
       "2  1 0.9538099765777588 74.79302215576172 271.924...  test/0002.jpg\n",
       "3  9 0.9284493923187256 144.9905548095703 257.729...  test/0003.jpg\n",
       "4  1 0.7317864522337914 193.50048828125 252.26834...  test/0004.jpg"
      ]
     },
     "execution_count": 6,
     "metadata": {},
     "output_type": "execute_result"
    }
   ],
   "source": [
    "submission = pd.DataFrame()\n",
    "submission['PredictionString'] = prediction_strings\n",
    "submission['image_id'] = file_names\n",
    "submission.to_csv('../../submission/real/submission5-2.csv', index = None)\n",
    "\n",
    "submission.head()"
   ]
  }
 ],
 "metadata": {
  "kernelspec": {
   "display_name": "Python 3.7.15 ('detection')",
   "language": "python",
   "name": "python3"
  },
  "language_info": {
   "codemirror_mode": {
    "name": "ipython",
    "version": 3
   },
   "file_extension": ".py",
   "mimetype": "text/x-python",
   "name": "python",
   "nbconvert_exporter": "python",
   "pygments_lexer": "ipython3",
   "version": "3.7.15"
  },
  "orig_nbformat": 4,
  "vscode": {
   "interpreter": {
    "hash": "b94c6de4bce9a87a354a5fa9998691adc0532adddb9d4140f5ba941d00b01fae"
   }
  }
 },
 "nbformat": 4,
 "nbformat_minor": 2
}
