{
 "cells": [
  {
   "cell_type": "code",
   "execution_count": null,
   "metadata": {},
   "outputs": [],
   "source": [
    "import os\n",
    "import pandas as pd\n",
    "from ensemble_boxes import *\n",
    "import numpy as np\n",
    "from pycocotools.coco import COCO\n",
    "from tqdm import tqdm\n",
    "\n",
    "import warnings\n",
    "\n",
    "warnings.filterwarnings( 'ignore' )"
   ]
  },
  {
   "cell_type": "code",
   "execution_count": null,
   "metadata": {},
   "outputs": [],
   "source": [
    "sub_dir = '../submission'\n",
    "submission_files = [\n",
    "                    # 'result_swin_f0_default_1e-3.csv',\n",
    "                    # 'result_swin_f1_default_1e-3.csv',\n",
    "                    # 'result_swin_f2_default_1e-3.csv',\n",
    "                    # 'result_swin_f3_default_1e-3.csv',\n",
    "                    # 'result_swin_f4_default_1e-3.csv',\n",
    "\n",
    "                    # 'result_swin_f0_pseudo_1e-3.csv',\n",
    "                    # 'result_swin_f1_pseudo_1e-3.csv',\n",
    "                    # 'result_swin_f2_pseudo_1e-3.csv',\n",
    "                    # 'result_swin_f3_pseudo_1e-3.csv',\n",
    "                    # 'result_swin_f4_pseudo_1e-3.csv',\n",
    "\n",
    "                    'result_yolov5l6_f0_default_1e-3.csv',\n",
    "                    'result_yolov5l6_f1_default_1e-3.csv',\n",
    "                    'result_yolov5l6_f2_default_1e-3.csv',\n",
    "                    'result_yolov5l6_f3_default_1e-3.csv',\n",
    "                    'result_yolov5l6_f4_default_1e-3.csv',\n",
    "\n",
    "                    'result_yolov5l6_f2_pseudo_1e-3.csv',\n",
    "                    'result_yolov5l6_f3_pseudo_1e-3.csv',\n",
    "                    'result_yolov5l6_f4_pseudo_1e-3.csv',\n",
    "\n",
    "                    'result_yolov7w6_f0_default_1e-3.csv',\n",
    "                    'result_yolov7w6_f1_default_1e-3.csv',\n",
    "                    'result_yolov7w6_f2_default_1e-3.csv',\n",
    "                    'result_yolov7w6_f3_default_1e-3.csv',\n",
    "                    'result_yolov7w6_f4_default_1e-3.csv',\n",
    "\n",
    "                    'result_yolov7w6_f2_pseudo_1e-3.csv',\n",
    "                    'result_yolov7w6_f3_pseudo_1e-3.csv',\n",
    "                    'result_yolov7w6_f4_pseudo_1e-3.csv',\n",
    "                    ]\n",
    "\n",
    "submission_df = [pd.read_csv(os.path.join(sub_dir, file)) for file in tqdm(submission_files)]"
   ]
  },
  {
   "cell_type": "code",
   "execution_count": null,
   "metadata": {},
   "outputs": [],
   "source": [
    "image_ids = submission_df[0]['image_id'].tolist()\n",
    "# ensemble 할 file의 image 정보를 불러오기 위한 json\n",
    "annotation = '../../dataset/test.json'\n",
    "coco = COCO(annotation)"
   ]
  },
  {
   "cell_type": "code",
   "execution_count": null,
   "metadata": {},
   "outputs": [],
   "source": [
    "prediction_strings = []\n",
    "file_names = []\n",
    "# ensemble 시 설정할 iou threshold 이 부분을 바꿔가며 대회 metric에 알맞게 적용해봐요!\n",
    "iou_thr = 0.6\n",
    "\n",
    "# 각 image id 별로 submission file에서 box좌표 추출\n",
    "for i, image_id in enumerate(tqdm(image_ids)):\n",
    "    prediction_string = ''\n",
    "    boxes_list = []\n",
    "    scores_list = []\n",
    "    labels_list = []\n",
    "    image_info = coco.loadImgs(i)[0]\n",
    "#     각 submission file 별로 prediction box좌표 불러오기\n",
    "    for df in submission_df:\n",
    "        predict_string = df[df['image_id'] == image_id]['PredictionString'].tolist()[0]\n",
    "        predict_list = str(predict_string).split()\n",
    "        \n",
    "        if len(predict_list)==0 or len(predict_list)==1:\n",
    "            continue\n",
    "            \n",
    "        predict_list = np.reshape(predict_list, (-1, 6))\n",
    "        box_list = []\n",
    "        \n",
    "        for box in predict_list[:, 2:6].tolist():\n",
    "            box[0] = float(box[0]) / image_info['width']\n",
    "            box[1] = float(box[1]) / image_info['height']\n",
    "            box[2] = float(box[2]) / image_info['width']\n",
    "            box[3] = float(box[3]) / image_info['height']\n",
    "            box_list.append(box)\n",
    "            \n",
    "        boxes_list.append(box_list)\n",
    "        scores_list.append(list(map(float, predict_list[:, 1].tolist())))\n",
    "        labels_list.append(list(map(int, predict_list[:, 0].tolist())))\n",
    "    \n",
    "#     예측 box가 있다면 이를 ensemble 수행\n",
    "    if len(boxes_list):\n",
    "        boxes, scores, labels = weighted_boxes_fusion(boxes_list, scores_list, labels_list, iou_thr=iou_thr)\n",
    "        for box, score, label in zip(boxes, scores, labels):\n",
    "            prediction_string += str(int(label)) + ' ' + str(score) + ' ' + str(box[0] * image_info['width']) + ' ' + str(box[1] * image_info['height']) + ' ' + str(box[2] * image_info['width']) + ' ' + str(box[3] * image_info['height']) + ' '\n",
    "    \n",
    "    prediction_strings.append(prediction_string)\n",
    "    file_names.append(image_id)"
   ]
  },
  {
   "cell_type": "code",
   "execution_count": null,
   "metadata": {},
   "outputs": [],
   "source": [
    "submission = pd.DataFrame()\n",
    "submission['PredictionString'] = prediction_strings\n",
    "submission['image_id'] = file_names\n",
    "submission.to_csv(os.path.join(sub_dir, 'ensemble.csv'), index = None)\n",
    "\n",
    "submission.head()"
   ]
  }
 ],
 "metadata": {
  "kernelspec": {
   "display_name": "Python 3.8.0 ('pytorch_env')",
   "language": "python",
   "name": "python3"
  },
  "language_info": {
   "codemirror_mode": {
    "name": "ipython",
    "version": 3
   },
   "file_extension": ".py",
   "mimetype": "text/x-python",
   "name": "python",
   "nbconvert_exporter": "python",
   "pygments_lexer": "ipython3",
   "version": "3.8.0"
  },
  "orig_nbformat": 4,
  "vscode": {
   "interpreter": {
    "hash": "a67f7df1b1958625866e4b43de20b9628e598a655f6350bbf125981f221a1fdc"
   }
  }
 },
 "nbformat": 4,
 "nbformat_minor": 2
}
