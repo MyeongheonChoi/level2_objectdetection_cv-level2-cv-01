{
 "cells": [
  {
   "cell_type": "code",
   "execution_count": 17,
   "metadata": {},
   "outputs": [],
   "source": [
    "import os\n",
    "import torch\n",
    "from tqdm import tqdm\n",
    "import pandas as pd"
   ]
  },
  {
   "cell_type": "code",
   "execution_count": 34,
   "metadata": {},
   "outputs": [
    {
     "name": "stderr",
     "output_type": "stream",
     "text": [
      "\n",
      "                 from  n    params  module                                  arguments                     \n",
      "  0                -1  1         0  models.common.ReOrg                     []                            \n",
      "  1                -1  1      7040  models.common.Conv                      [12, 64, 3, 1]                \n",
      "  2                -1  1     73984  models.common.Conv                      [64, 128, 3, 2]               \n",
      "  3                -1  1      8320  models.common.Conv                      [128, 64, 1, 1]               \n",
      "  4                -2  1      8320  models.common.Conv                      [128, 64, 1, 1]               \n",
      "  5                -1  1     36992  models.common.Conv                      [64, 64, 3, 1]                \n",
      "  6                -1  1     36992  models.common.Conv                      [64, 64, 3, 1]                \n",
      "  7                -1  1     36992  models.common.Conv                      [64, 64, 3, 1]                \n",
      "  8                -1  1     36992  models.common.Conv                      [64, 64, 3, 1]                \n",
      "  9  [-1, -3, -5, -6]  1         0  models.common.Concat                    [1]                           \n",
      " 10                -1  1     33024  models.common.Conv                      [256, 128, 1, 1]              \n",
      " 11                -1  1    295424  models.common.Conv                      [128, 256, 3, 2]              \n",
      " 12                -1  1     33024  models.common.Conv                      [256, 128, 1, 1]              \n",
      " 13                -2  1     33024  models.common.Conv                      [256, 128, 1, 1]              \n",
      " 14                -1  1    147712  models.common.Conv                      [128, 128, 3, 1]              \n",
      " 15                -1  1    147712  models.common.Conv                      [128, 128, 3, 1]              \n",
      " 16                -1  1    147712  models.common.Conv                      [128, 128, 3, 1]              \n",
      " 17                -1  1    147712  models.common.Conv                      [128, 128, 3, 1]              \n",
      " 18  [-1, -3, -5, -6]  1         0  models.common.Concat                    [1]                           \n",
      " 19                -1  1    131584  models.common.Conv                      [512, 256, 1, 1]              \n",
      " 20                -1  1   1180672  models.common.Conv                      [256, 512, 3, 2]              \n",
      " 21                -1  1    131584  models.common.Conv                      [512, 256, 1, 1]              \n",
      " 22                -2  1    131584  models.common.Conv                      [512, 256, 1, 1]              \n",
      " 23                -1  1    590336  models.common.Conv                      [256, 256, 3, 1]              \n",
      " 24                -1  1    590336  models.common.Conv                      [256, 256, 3, 1]              \n",
      " 25                -1  1    590336  models.common.Conv                      [256, 256, 3, 1]              \n",
      " 26                -1  1    590336  models.common.Conv                      [256, 256, 3, 1]              \n",
      " 27  [-1, -3, -5, -6]  1         0  models.common.Concat                    [1]                           \n",
      " 28                -1  1    525312  models.common.Conv                      [1024, 512, 1, 1]             \n",
      " 29                -1  1   3540480  models.common.Conv                      [512, 768, 3, 2]              \n",
      " 30                -1  1    295680  models.common.Conv                      [768, 384, 1, 1]              \n",
      " 31                -2  1    295680  models.common.Conv                      [768, 384, 1, 1]              \n",
      " 32                -1  1   1327872  models.common.Conv                      [384, 384, 3, 1]              \n",
      " 33                -1  1   1327872  models.common.Conv                      [384, 384, 3, 1]              \n",
      " 34                -1  1   1327872  models.common.Conv                      [384, 384, 3, 1]              \n",
      " 35                -1  1   1327872  models.common.Conv                      [384, 384, 3, 1]              \n",
      " 36  [-1, -3, -5, -6]  1         0  models.common.Concat                    [1]                           \n",
      " 37                -1  1   1181184  models.common.Conv                      [1536, 768, 1, 1]             \n",
      " 38                -1  1   7079936  models.common.Conv                      [768, 1024, 3, 2]             \n",
      " 39                -1  1    525312  models.common.Conv                      [1024, 512, 1, 1]             \n",
      " 40                -2  1    525312  models.common.Conv                      [1024, 512, 1, 1]             \n",
      " 41                -1  1   2360320  models.common.Conv                      [512, 512, 3, 1]              \n",
      " 42                -1  1   2360320  models.common.Conv                      [512, 512, 3, 1]              \n",
      " 43                -1  1   2360320  models.common.Conv                      [512, 512, 3, 1]              \n",
      " 44                -1  1   2360320  models.common.Conv                      [512, 512, 3, 1]              \n",
      " 45  [-1, -3, -5, -6]  1         0  models.common.Concat                    [1]                           \n",
      " 46                -1  1   2099200  models.common.Conv                      [2048, 1024, 1, 1]            \n",
      " 47                -1  1   7609344  models.common.SPPCSPC                   [1024, 512, 1]                \n",
      " 48                -1  1    197376  models.common.Conv                      [512, 384, 1, 1]              \n",
      " 49                -1  1         0  torch.nn.modules.upsampling.Upsample    [None, 2, 'nearest']          \n",
      " 50                37  1    295680  models.common.Conv                      [768, 384, 1, 1]              \n",
      " 51          [-1, -2]  1         0  models.common.Concat                    [1]                           \n",
      " 52                -1  1    295680  models.common.Conv                      [768, 384, 1, 1]              \n",
      " 53                -2  1    295680  models.common.Conv                      [768, 384, 1, 1]              \n",
      " 54                -1  1    663936  models.common.Conv                      [384, 192, 3, 1]              \n",
      " 55                -1  1    332160  models.common.Conv                      [192, 192, 3, 1]              \n",
      " 56                -1  1    332160  models.common.Conv                      [192, 192, 3, 1]              \n",
      " 57                -1  1    332160  models.common.Conv                      [192, 192, 3, 1]              \n",
      " 58[-1, -2, -3, -4, -5, -6]  1         0  models.common.Concat                    [1]                           \n",
      " 59                -1  1    590592  models.common.Conv                      [1536, 384, 1, 1]             \n",
      " 60                -1  1     98816  models.common.Conv                      [384, 256, 1, 1]              \n",
      " 61                -1  1         0  torch.nn.modules.upsampling.Upsample    [None, 2, 'nearest']          \n",
      " 62                28  1    131584  models.common.Conv                      [512, 256, 1, 1]              \n",
      " 63          [-1, -2]  1         0  models.common.Concat                    [1]                           \n",
      " 64                -1  1    131584  models.common.Conv                      [512, 256, 1, 1]              \n",
      " 65                -2  1    131584  models.common.Conv                      [512, 256, 1, 1]              \n",
      " 66                -1  1    295168  models.common.Conv                      [256, 128, 3, 1]              \n",
      " 67                -1  1    147712  models.common.Conv                      [128, 128, 3, 1]              \n",
      " 68                -1  1    147712  models.common.Conv                      [128, 128, 3, 1]              \n",
      " 69                -1  1    147712  models.common.Conv                      [128, 128, 3, 1]              \n",
      " 70[-1, -2, -3, -4, -5, -6]  1         0  models.common.Concat                    [1]                           \n",
      " 71                -1  1    262656  models.common.Conv                      [1024, 256, 1, 1]             \n",
      " 72                -1  1     33024  models.common.Conv                      [256, 128, 1, 1]              \n",
      " 73                -1  1         0  torch.nn.modules.upsampling.Upsample    [None, 2, 'nearest']          \n",
      " 74                19  1     33024  models.common.Conv                      [256, 128, 1, 1]              \n",
      " 75          [-1, -2]  1         0  models.common.Concat                    [1]                           \n",
      " 76                -1  1     33024  models.common.Conv                      [256, 128, 1, 1]              \n",
      " 77                -2  1     33024  models.common.Conv                      [256, 128, 1, 1]              \n",
      " 78                -1  1     73856  models.common.Conv                      [128, 64, 3, 1]               \n",
      " 79                -1  1     36992  models.common.Conv                      [64, 64, 3, 1]                \n",
      " 80                -1  1     36992  models.common.Conv                      [64, 64, 3, 1]                \n",
      " 81                -1  1     36992  models.common.Conv                      [64, 64, 3, 1]                \n",
      " 82[-1, -2, -3, -4, -5, -6]  1         0  models.common.Concat                    [1]                           \n",
      " 83                -1  1     65792  models.common.Conv                      [512, 128, 1, 1]              \n",
      " 84                -1  1    295424  models.common.Conv                      [128, 256, 3, 2]              \n",
      " 85          [-1, 71]  1         0  models.common.Concat                    [1]                           \n",
      " 86                -1  1    131584  models.common.Conv                      [512, 256, 1, 1]              \n",
      " 87                -2  1    131584  models.common.Conv                      [512, 256, 1, 1]              \n",
      " 88                -1  1    295168  models.common.Conv                      [256, 128, 3, 1]              \n",
      " 89                -1  1    147712  models.common.Conv                      [128, 128, 3, 1]              \n",
      " 90                -1  1    147712  models.common.Conv                      [128, 128, 3, 1]              \n",
      " 91                -1  1    147712  models.common.Conv                      [128, 128, 3, 1]              \n",
      " 92[-1, -2, -3, -4, -5, -6]  1         0  models.common.Concat                    [1]                           \n",
      " 93                -1  1    262656  models.common.Conv                      [1024, 256, 1, 1]             \n",
      " 94                -1  1    885504  models.common.Conv                      [256, 384, 3, 2]              \n",
      " 95          [-1, 59]  1         0  models.common.Concat                    [1]                           \n",
      " 96                -1  1    295680  models.common.Conv                      [768, 384, 1, 1]              \n",
      " 97                -2  1    295680  models.common.Conv                      [768, 384, 1, 1]              \n",
      " 98                -1  1    663936  models.common.Conv                      [384, 192, 3, 1]              \n",
      " 99                -1  1    332160  models.common.Conv                      [192, 192, 3, 1]              \n",
      "100                -1  1    332160  models.common.Conv                      [192, 192, 3, 1]              \n",
      "101                -1  1    332160  models.common.Conv                      [192, 192, 3, 1]              \n",
      "102[-1, -2, -3, -4, -5, -6]  1         0  models.common.Concat                    [1]                           \n",
      "103                -1  1    590592  models.common.Conv                      [1536, 384, 1, 1]             \n",
      "104                -1  1   1770496  models.common.Conv                      [384, 512, 3, 2]              \n",
      "105          [-1, 47]  1         0  models.common.Concat                    [1]                           \n",
      "106                -1  1    525312  models.common.Conv                      [1024, 512, 1, 1]             \n",
      "107                -2  1    525312  models.common.Conv                      [1024, 512, 1, 1]             \n",
      "108                -1  1   1180160  models.common.Conv                      [512, 256, 3, 1]              \n",
      "109                -1  1    590336  models.common.Conv                      [256, 256, 3, 1]              \n",
      "110                -1  1    590336  models.common.Conv                      [256, 256, 3, 1]              \n",
      "111                -1  1    590336  models.common.Conv                      [256, 256, 3, 1]              \n",
      "112[-1, -2, -3, -4, -5, -6]  1         0  models.common.Concat                    [1]                           \n",
      "113                -1  1   1049600  models.common.Conv                      [2048, 512, 1, 1]             \n",
      "114                83  1    295424  models.common.Conv                      [128, 256, 3, 1]              \n",
      "115                93  1   1180672  models.common.Conv                      [256, 512, 3, 1]              \n",
      "116               103  1   2655744  models.common.Conv                      [384, 768, 3, 1]              \n",
      "117               113  1   4720640  models.common.Conv                      [512, 1024, 3, 1]             \n",
      "118                83  1    369280  models.common.Conv                      [128, 320, 3, 1]              \n",
      "119                71  1   1475840  models.common.Conv                      [256, 640, 3, 1]              \n",
      "120                59  1   3319680  models.common.Conv                      [384, 960, 3, 1]              \n",
      "121                47  1   5900800  models.common.Conv                      [512, 1280, 3, 1]             \n",
      "122[114, 115, 116, 117, 118, 119, 120, 121]  1    262300  models.yolo.IAuxDetect                  [10, [[19, 27, 44, 40, 38, 94], [96, 68, 86, 152, 180, 137], [140, 301, 303, 264, 238, 542], [436, 615, 739, 380, 925, 792]], [256, 512, 768, 1024, 320, 640, 960, 1280]]\n",
      "Model Summary: 477 layers, 81100316 parameters, 81100316 gradients\n",
      "\n",
      "YOLOR 🚀 v0.1-115-g072f76c torch 1.7.1 CUDA:0 (Tesla V100-PCIE-32GB, 32510.5MB)\n",
      "\n"
     ]
    },
    {
     "name": "stdout",
     "output_type": "stream",
     "text": [
      "Adding autoShape... \n"
     ]
    },
    {
     "data": {
      "text/plain": [
       "'../../dataset/test/0000.jpg'"
      ]
     },
     "execution_count": 34,
     "metadata": {},
     "output_type": "execute_result"
    }
   ],
   "source": [
    "DATA_ROOT = '../../dataset'\n",
    "TEST_DATASET_PATH = os.path.join(DATA_ROOT, 'test')\n",
    "\n",
    "INFERENCE_SIZE = 1024\n",
    "AUGMENT = True\n",
    "\n",
    "IMAGES = []\n",
    "for image_name in os.listdir(TEST_DATASET_PATH):\n",
    "    if not image_name.startswith('._'):\n",
    "        IMAGES.append(os.path.join(TEST_DATASET_PATH, image_name))\n",
    "\n",
    "IMAGES.sort()\n",
    "\n",
    "PROJECT_NAME = 'bc_lv2-object_detection'\n",
    "EXPERIMENT_NAME = 'yolov7w6_f4_default'\n",
    "\n",
    "model = torch.hub.load(\n",
    "    repo_or_dir = './',\n",
    "    model = 'custom',\n",
    "    source='local' \n",
    "    )\n",
    "\n",
    "model.conf = 0.001  # NMS confidence threshold\n",
    "model.iou = 0.6  # NMS IoU threshold\n",
    "\n",
    "# model.agnostic = False  # NMS class-agnostic\n",
    "# model.multi_label = False  # NMS multiple labels per box\n",
    "# model.classes = None  # (optional list) filter by class, i.e. = [0, 15, 16] for COCO persons, cats and dogs\n",
    "# model.max_det = 1000  # maximum number of detections per image\n",
    "# model.amp = False  # Automatic Mixed Precision (AMP) inference\n",
    "IMAGES[0]"
   ]
  },
  {
   "cell_type": "code",
   "execution_count": 35,
   "metadata": {},
   "outputs": [
    {
     "name": "stderr",
     "output_type": "stream",
     "text": [
      "100%|██████████| 4871/4871 [10:09<00:00,  7.99it/s]\n"
     ]
    },
    {
     "data": {
      "text/html": [
       "<div>\n",
       "<style scoped>\n",
       "    .dataframe tbody tr th:only-of-type {\n",
       "        vertical-align: middle;\n",
       "    }\n",
       "\n",
       "    .dataframe tbody tr th {\n",
       "        vertical-align: top;\n",
       "    }\n",
       "\n",
       "    .dataframe thead th {\n",
       "        text-align: right;\n",
       "    }\n",
       "</style>\n",
       "<table border=\"1\" class=\"dataframe\">\n",
       "  <thead>\n",
       "    <tr style=\"text-align: right;\">\n",
       "      <th></th>\n",
       "      <th>PredictionString</th>\n",
       "      <th>image_id</th>\n",
       "    </tr>\n",
       "  </thead>\n",
       "  <tbody>\n",
       "    <tr>\n",
       "      <th>0</th>\n",
       "      <td>7 0.990167498588562 603.7650146484375 515.6267...</td>\n",
       "      <td>test/0000.jpg</td>\n",
       "    </tr>\n",
       "    <tr>\n",
       "      <th>1</th>\n",
       "      <td>5 0.9648200273513794 341.5235595703125 249.747...</td>\n",
       "      <td>test/0001.jpg</td>\n",
       "    </tr>\n",
       "    <tr>\n",
       "      <th>2</th>\n",
       "      <td>1 0.9482503533363342 75.65573120117188 269.929...</td>\n",
       "      <td>test/0002.jpg</td>\n",
       "    </tr>\n",
       "    <tr>\n",
       "      <th>3</th>\n",
       "      <td>9 0.9568088054656982 147.60311889648438 253.80...</td>\n",
       "      <td>test/0003.jpg</td>\n",
       "    </tr>\n",
       "    <tr>\n",
       "      <th>4</th>\n",
       "      <td>1 0.9006543159484863 188.72637939453125 253.48...</td>\n",
       "      <td>test/0004.jpg</td>\n",
       "    </tr>\n",
       "  </tbody>\n",
       "</table>\n",
       "</div>"
      ],
      "text/plain": [
       "                                    PredictionString       image_id\n",
       "0  7 0.990167498588562 603.7650146484375 515.6267...  test/0000.jpg\n",
       "1  5 0.9648200273513794 341.5235595703125 249.747...  test/0001.jpg\n",
       "2  1 0.9482503533363342 75.65573120117188 269.929...  test/0002.jpg\n",
       "3  9 0.9568088054656982 147.60311889648438 253.80...  test/0003.jpg\n",
       "4  1 0.9006543159484863 188.72637939453125 253.48...  test/0004.jpg"
      ]
     },
     "execution_count": 35,
     "metadata": {},
     "output_type": "execute_result"
    }
   ],
   "source": [
    "prediction_strings = []\n",
    "file_names = []\n",
    "\n",
    "for i in tqdm(range(len(IMAGES))):\n",
    "    prediction_string = ''\n",
    "    \n",
    "    output = model(IMAGES[i], size=INFERENCE_SIZE, augment=AUGMENT)\n",
    "    for bbox in output.pandas().xyxy[0].values:\n",
    "        xmin, ymin, xmax, ymax, conf, cls, _ = bbox\n",
    "        prediction_string += f'{cls} {conf} {xmin} {ymin} {xmax} {ymax} '\n",
    "    \n",
    "    path_split = IMAGES[i].split('/')\n",
    "    image_path = f'{path_split[-2]}/{path_split[-1]}'\n",
    "\n",
    "    prediction_strings.append(prediction_string)\n",
    "    file_names.append(image_path)\n",
    "\n",
    "submission = pd.DataFrame()\n",
    "submission['PredictionString'] = prediction_strings\n",
    "submission['image_id'] = file_names\n",
    "submission.head()"
   ]
  },
  {
   "cell_type": "code",
   "execution_count": 36,
   "metadata": {},
   "outputs": [],
   "source": [
    "submission.to_csv(os.path.join(f'./{PROJECT_NAME}/{EXPERIMENT_NAME}', f'{EXPERIMENT_NAME}.csv'), index=None)"
   ]
  },
  {
   "cell_type": "code",
   "execution_count": 37,
   "metadata": {},
   "outputs": [
    {
     "data": {
      "text/plain": [
       "'5 0.9648200273513794 341.5235595703125 249.74754333496094 751.9813232421875 695.4154052734375 5 0.8307164907455444 130.7783660888672 0.0 493.10107421875 272.19134521484375 0 0.5419055819511414 764.978271484375 664.66943359375 899.826171875 982.52978515625 6 0.5305799245834351 764.0183715820312 657.180419921875 896.8715209960938 981.0755615234375 5 0.0075094010680913925 131.86627197265625 84.41046905517578 298.0430908203125 274.71759033203125 0 0.006969708018004894 664.7298583984375 207.69378662109375 1015.29833984375 437.85369873046875 5 0.006072625983506441 129.64529418945312 0.120269775390625 271.1781921386719 266.25311279296875 0 0.004922586493194103 764.9520263671875 639.9286499023438 830.8016357421875 669.7605590820312 5 0.0033240464981645346 131.5847930908203 0.1239471435546875 494.14398193359375 461.95269775390625 5 0.002658664947375655 124.81582641601562 0.0 345.1543884277344 282.1531982421875 1 0.0024340800009667873 742.3494262695312 663.038818359375 903.4636840820312 986.9605712890625 5 0.0017665025079622865 149.93862915039062 128.92947387695312 813.7362060546875 737.7017822265625 0 0.0016790191875770688 567.7852783203125 6.976593017578125 1024.0 450.16558837890625 7 0.0016040396876633167 130.92066955566406 0.2607269287109375 256.7132568359375 263.90887451171875 0 0.001499344245530665 123.720947265625 2.367584228515625 496.21954345703125 673.8128662109375 0 0.0014472099719569087 150.28509521484375 0.0 1024.0 287.92474365234375 0 0.001323737669736147 642.6287231445312 641.7821044921875 683.5514526367188 838.5150146484375 0 0.0011755945160984993 528.5657348632812 539.8385009765625 551.6847534179688 572.702392578125 7 0.0011742006754502654 529.1845092773438 539.8013916015625 551.1240844726562 572.4144287109375 7 0.001115588704124093 255.2022705078125 58.070945739746094 492.069091796875 252.48199462890625 7 0.0010457278694957495 3.1095199584960938 504.50286865234375 139.06942749023438 671.6956176757812 1 0.001010265899822116 15.137237548828125 181.79690551757812 871.6292724609375 1024.0 '"
      ]
     },
     "execution_count": 37,
     "metadata": {},
     "output_type": "execute_result"
    }
   ],
   "source": [
    "df = pd.read_csv(os.path.join(f'./{PROJECT_NAME}/{EXPERIMENT_NAME}',f'{EXPERIMENT_NAME}.csv'))\n",
    "df.loc[1]['PredictionString']"
   ]
  },
  {
   "cell_type": "code",
   "execution_count": null,
   "metadata": {},
   "outputs": [],
   "source": []
  },
  {
   "cell_type": "code",
   "execution_count": null,
   "metadata": {},
   "outputs": [],
   "source": []
  }
 ],
 "metadata": {
  "kernelspec": {
   "display_name": "Python 3.7.15 ('detection')",
   "language": "python",
   "name": "python3"
  },
  "language_info": {
   "codemirror_mode": {
    "name": "ipython",
    "version": 3
   },
   "file_extension": ".py",
   "mimetype": "text/x-python",
   "name": "python",
   "nbconvert_exporter": "python",
   "pygments_lexer": "ipython3",
   "version": "3.7.15"
  },
  "orig_nbformat": 4,
  "vscode": {
   "interpreter": {
    "hash": "b94c6de4bce9a87a354a5fa9998691adc0532adddb9d4140f5ba941d00b01fae"
   }
  }
 },
 "nbformat": 4,
 "nbformat_minor": 2
}
