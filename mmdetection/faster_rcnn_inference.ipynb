{
 "cells": [
  {
   "cell_type": "code",
   "execution_count": 2,
   "id": "3fd75793",
   "metadata": {},
   "outputs": [
    {
     "name": "stderr",
     "output_type": "stream",
     "text": [
      "/opt/conda/envs/detection/lib/python3.7/site-packages/mmcv/__init__.py:21: UserWarning: On January 1, 2023, MMCV will release v2.0.0, in which it will remove components related to the training process and add a data transformation module. In addition, it will rename the package names mmcv to mmcv-lite and mmcv-full to mmcv. See https://github.com/open-mmlab/mmcv/blob/master/docs/en/compatibility.md for more details.\n",
      "  'On January 1, 2023, MMCV will release v2.0.0, in which it will remove '\n"
     ]
    }
   ],
   "source": [
    "import mmcv\n",
    "from mmcv import Config\n",
    "from mmdet.datasets import (build_dataloader, build_dataset,\n",
    "                            replace_ImageToTensor)\n",
    "from mmdet.models import build_detector\n",
    "from mmdet.apis import single_gpu_test\n",
    "from mmcv.runner import load_checkpoint\n",
    "import os\n",
    "from mmcv.parallel import MMDataParallel\n",
    "import pandas as pd\n",
    "from pandas import DataFrame\n",
    "from pycocotools.coco import COCO\n",
    "import numpy as np"
   ]
  },
  {
   "cell_type": "code",
   "execution_count": 5,
   "id": "edda58ea",
   "metadata": {},
   "outputs": [],
   "source": [
    "classes = (\"General trash\", \"Paper\", \"Paper pack\", \"Metal\", \"Glass\", \n",
    "           \"Plastic\", \"Styrofoam\", \"Plastic bag\", \"Battery\", \"Clothing\")\n",
    "\n",
    "# config file 들고오기\n",
    "cfg = Config.fromfile('./configs/faster_rcnn_r50.py')\n",
    "\n",
    "root='../../dataset/'\n",
    "\n",
    "epoch = 'best_bbox_mAP_50_epoch_12'\n",
    "\n",
    "# dataset config 수정\n",
    "cfg.data.test.classes = classes\n",
    "cfg.data.test.img_prefix = root\n",
    "cfg.data.test.ann_file = root + 'test.json'\n",
    "cfg.data.test.pipeline[1]['img_scale'] = (512,512) # Resize\n",
    "cfg.data.test.test_mode = True\n",
    "\n",
    "cfg.data.samples_per_gpu = 4\n",
    "\n",
    "cfg.seed=2021\n",
    "cfg.gpu_ids = [1]\n",
    "cfg.work_dir = './work_dirs/faster_rcnn_r50'\n",
    "\n",
    "cfg.model.roi_head.bbox_head.num_classes = 10\n",
    "\n",
    "cfg.optimizer_config.grad_clip = dict(max_norm=35, norm_type=2)\n",
    "cfg.model.train_cfg = None"
   ]
  },
  {
   "cell_type": "code",
   "execution_count": 6,
   "id": "b086a8cf",
   "metadata": {},
   "outputs": [
    {
     "name": "stdout",
     "output_type": "stream",
     "text": [
      "loading annotations into memory...\n",
      "Done (t=0.03s)\n",
      "creating index...\n",
      "index created!\n"
     ]
    }
   ],
   "source": [
    "# build dataset & dataloader\n",
    "dataset = build_dataset(cfg.data.test)\n",
    "data_loader = build_dataloader(\n",
    "        dataset,\n",
    "        samples_per_gpu=1,\n",
    "        workers_per_gpu=cfg.data.workers_per_gpu,\n",
    "        dist=False,\n",
    "        shuffle=False)"
   ]
  },
  {
   "cell_type": "code",
   "execution_count": 7,
   "id": "83b3eae6",
   "metadata": {},
   "outputs": [
    {
     "name": "stdout",
     "output_type": "stream",
     "text": [
      "load checkpoint from local path: ./work_dirs/faster_rcnn_r50/best_bbox_mAP_50_epoch_12.pth\n"
     ]
    }
   ],
   "source": [
    "# checkpoint path\n",
    "checkpoint_path = os.path.join(cfg.work_dir, f'{epoch}.pth')\n",
    "\n",
    "model = build_detector(cfg.model, test_cfg=cfg.get('test_cfg')) # build detector\n",
    "checkpoint = load_checkpoint(model, checkpoint_path, map_location='cpu') # ckpt load\n",
    "\n",
    "model.CLASSES = dataset.CLASSES\n",
    "model = MMDataParallel(model.cuda(), device_ids=[0])"
   ]
  },
  {
   "cell_type": "code",
   "execution_count": 8,
   "id": "c9f5c2bb",
   "metadata": {},
   "outputs": [
    {
     "name": "stdout",
     "output_type": "stream",
     "text": [
      "[>>>>>>>>>>>>>>>>>>>>>>>>>>] 4871/4871, 10.4 task/s, elapsed: 469s, ETA:     0s"
     ]
    }
   ],
   "source": [
    "output = single_gpu_test(model, data_loader, show_score_thr=0.05) # output 계산"
   ]
  },
  {
   "cell_type": "code",
   "execution_count": 21,
   "id": "4247c7e7",
   "metadata": {},
   "outputs": [
    {
     "data": {
      "text/plain": [
       "[array([[5.9057135e+02, 6.7068665e+02, 8.9617572e+02, 9.3471631e+02,\n",
       "         8.0826527e-01],\n",
       "        [7.1101990e+02, 6.5292139e+02, 9.0729199e+02, 9.9708826e+02,\n",
       "         5.9938478e-01],\n",
       "        [3.5587451e+02, 6.5366107e+02, 8.8971814e+02, 9.5647394e+02,\n",
       "         1.3118184e-01],\n",
       "        [3.1908832e+02, 2.2373790e+02, 7.7152765e+02, 7.2929095e+02,\n",
       "         1.1004272e-01],\n",
       "        [7.9533966e+02, 6.8485522e+02, 8.9956256e+02, 1.0159348e+03,\n",
       "         1.0638359e-01],\n",
       "        [1.0183490e+02, 0.0000000e+00, 4.6662512e+02, 2.8404126e+02,\n",
       "         7.8965254e-02],\n",
       "        [6.8489026e+02, 6.6569885e+02, 7.9597607e+02, 9.3199780e+02,\n",
       "         5.5990066e-02],\n",
       "        [2.8441611e+02, 2.0044342e+02, 8.7785217e+02, 9.9377826e+02,\n",
       "         5.2739274e-02]], dtype=float32),\n",
       " array([[7.174491e+02, 6.629227e+02, 9.097051e+02, 9.872744e+02,\n",
       "         1.475105e-01]], dtype=float32),\n",
       " array([[3.1422156e+02, 2.8031287e+02, 7.6158276e+02, 7.0935040e+02,\n",
       "         3.4106982e-01],\n",
       "        [6.8274298e+02, 6.6015173e+02, 9.1047211e+02, 9.8697693e+02,\n",
       "         1.6430938e-01]], dtype=float32),\n",
       " array([[3.4846277e+02, 2.4357901e+02, 7.3489673e+02, 7.2515466e+02,\n",
       "         4.4452983e-01],\n",
       "        [1.2661931e+02, 8.6738434e+00, 4.5415411e+02, 2.7416034e+02,\n",
       "         1.9145378e-01],\n",
       "        [2.6816013e+02, 5.7621826e+01, 5.8916614e+02, 7.3816211e+02,\n",
       "         5.9578609e-02]], dtype=float32),\n",
       " array([[3.1311871e+02, 2.3332269e+02, 7.4021576e+02, 7.3048737e+02,\n",
       "         2.1261875e-01]], dtype=float32),\n",
       " array([[1.3323792e+02, 0.0000000e+00, 4.7496948e+02, 2.8669290e+02,\n",
       "         6.5291953e-01],\n",
       "        [3.3653967e+02, 2.2092598e+02, 7.3249463e+02, 7.3274963e+02,\n",
       "         6.3217258e-01],\n",
       "        [2.7742410e+02, 1.8726990e+02, 8.7744958e+02, 9.7065771e+02,\n",
       "         9.8459981e-02],\n",
       "        [2.6694238e+02, 5.5863037e+01, 6.0653357e+02, 7.5055011e+02,\n",
       "         7.4014246e-02],\n",
       "        [6.0516034e+02, 6.6698456e+02, 7.8811151e+02, 9.6345709e+02,\n",
       "         5.4768864e-02]], dtype=float32),\n",
       " array([[7.82746277e+02, 6.65323242e+02, 9.04773621e+02, 1.00209766e+03,\n",
       "         1.31935954e-01],\n",
       "        [7.36594421e+02, 6.43412537e+02, 8.72192566e+02, 9.81117371e+02,\n",
       "         7.15609938e-02]], dtype=float32),\n",
       " array([[1.2898857e+02, 0.0000000e+00, 4.7043616e+02, 2.7362408e+02,\n",
       "         1.8753524e-01],\n",
       "        [3.1996918e+02, 2.2682944e+02, 7.7230573e+02, 7.2365125e+02,\n",
       "         5.8493167e-02]], dtype=float32),\n",
       " array([], shape=(0, 5), dtype=float32),\n",
       " array([], shape=(0, 5), dtype=float32)]"
      ]
     },
     "execution_count": 21,
     "metadata": {},
     "output_type": "execute_result"
    }
   ],
   "source": [
    "output[1]"
   ]
  },
  {
   "cell_type": "code",
   "execution_count": 7,
   "id": "5672a0ff",
   "metadata": {},
   "outputs": [
    {
     "name": "stdout",
     "output_type": "stream",
     "text": [
      "loading annotations into memory...\n",
      "Done (t=0.02s)\n",
      "creating index...\n",
      "index created!\n"
     ]
    },
    {
     "data": {
      "text/html": [
       "<div>\n",
       "<style scoped>\n",
       "    .dataframe tbody tr th:only-of-type {\n",
       "        vertical-align: middle;\n",
       "    }\n",
       "\n",
       "    .dataframe tbody tr th {\n",
       "        vertical-align: top;\n",
       "    }\n",
       "\n",
       "    .dataframe thead th {\n",
       "        text-align: right;\n",
       "    }\n",
       "</style>\n",
       "<table border=\"1\" class=\"dataframe\">\n",
       "  <thead>\n",
       "    <tr style=\"text-align: right;\">\n",
       "      <th></th>\n",
       "      <th>PredictionString</th>\n",
       "      <th>image_id</th>\n",
       "    </tr>\n",
       "  </thead>\n",
       "  <tbody>\n",
       "    <tr>\n",
       "      <th>0</th>\n",
       "      <td>0 0.08096859 346.1726 609.7546 449.15417 742.0...</td>\n",
       "      <td>test/0000.jpg</td>\n",
       "    </tr>\n",
       "    <tr>\n",
       "      <th>1</th>\n",
       "      <td>0 0.80826527 590.57135 670.68665 896.1757 934....</td>\n",
       "      <td>test/0001.jpg</td>\n",
       "    </tr>\n",
       "    <tr>\n",
       "      <th>2</th>\n",
       "      <td>0 0.093713604 11.117355 256.00867 118.3358 495...</td>\n",
       "      <td>test/0002.jpg</td>\n",
       "    </tr>\n",
       "    <tr>\n",
       "      <th>3</th>\n",
       "      <td>0 0.20736967 30.023804 262.1125 916.0271 875.8...</td>\n",
       "      <td>test/0003.jpg</td>\n",
       "    </tr>\n",
       "    <tr>\n",
       "      <th>4</th>\n",
       "      <td>0 0.7361294 135.80121 299.60464 946.3022 789.6...</td>\n",
       "      <td>test/0004.jpg</td>\n",
       "    </tr>\n",
       "  </tbody>\n",
       "</table>\n",
       "</div>"
      ],
      "text/plain": [
       "                                    PredictionString       image_id\n",
       "0  0 0.08096859 346.1726 609.7546 449.15417 742.0...  test/0000.jpg\n",
       "1  0 0.80826527 590.57135 670.68665 896.1757 934....  test/0001.jpg\n",
       "2  0 0.093713604 11.117355 256.00867 118.3358 495...  test/0002.jpg\n",
       "3  0 0.20736967 30.023804 262.1125 916.0271 875.8...  test/0003.jpg\n",
       "4  0 0.7361294 135.80121 299.60464 946.3022 789.6...  test/0004.jpg"
      ]
     },
     "execution_count": 7,
     "metadata": {},
     "output_type": "execute_result"
    }
   ],
   "source": [
    "# submission 양식에 맞게 output 후처리\n",
    "prediction_strings = []\n",
    "file_names = []\n",
    "coco = COCO(cfg.data.test.ann_file)\n",
    "img_ids = coco.getImgIds()\n",
    "\n",
    "class_num = 10\n",
    "for i, out in enumerate(output):\n",
    "    prediction_string = ''\n",
    "    image_info = coco.loadImgs(coco.getImgIds(imgIds=i))[0]\n",
    "    for j in range(class_num):\n",
    "        for o in out[j]:\n",
    "            prediction_string += str(j) + ' ' + str(o[4]) + ' ' + str(o[0]) + ' ' + str(o[1]) + ' ' + str(\n",
    "                o[2]) + ' ' + str(o[3]) + ' '\n",
    "        \n",
    "    prediction_strings.append(prediction_string)\n",
    "    file_names.append(image_info['file_name'])\n",
    "\n",
    "\n",
    "submission = pd.DataFrame()\n",
    "submission['PredictionString'] = prediction_strings\n",
    "submission['image_id'] = file_names\n",
    "submission.to_csv(os.path.join(cfg.work_dir, f'submission_{epoch}.csv'), index=None)\n",
    "submission.head()"
   ]
  },
  {
   "cell_type": "code",
   "execution_count": 17,
   "id": "3803d96d",
   "metadata": {},
   "outputs": [
    {
     "data": {
      "text/plain": [
       "'0 0.19676936 455.00232 392.32516 838.4592 873.8369 9 0.050746284 494.17932 368.71875 816.05444 920.21594 '"
      ]
     },
     "execution_count": 17,
     "metadata": {},
     "output_type": "execute_result"
    }
   ],
   "source": [
    "df = pd.read_csv('./work_dirs/faster_rcnn_r50/submission_best_bbox_mAP_50_epoch_12.csv')\n",
    "df.loc[1291]['PredictionString']"
   ]
  },
  {
   "cell_type": "code",
   "execution_count": null,
   "id": "36cb7234",
   "metadata": {},
   "outputs": [],
   "source": []
  }
 ],
 "metadata": {
  "kernelspec": {
   "display_name": "Python 3.7.15 ('detection')",
   "language": "python",
   "name": "python3"
  },
  "language_info": {
   "codemirror_mode": {
    "name": "ipython",
    "version": 3
   },
   "file_extension": ".py",
   "mimetype": "text/x-python",
   "name": "python",
   "nbconvert_exporter": "python",
   "pygments_lexer": "ipython3",
   "version": "3.7.15"
  },
  "vscode": {
   "interpreter": {
    "hash": "b94c6de4bce9a87a354a5fa9998691adc0532adddb9d4140f5ba941d00b01fae"
   }
  }
 },
 "nbformat": 4,
 "nbformat_minor": 5
}
